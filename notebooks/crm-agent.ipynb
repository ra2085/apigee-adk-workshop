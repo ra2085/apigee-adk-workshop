{
 "cells": [
  {
   "cell_type": "markdown",
   "id": "d1c59898",
   "metadata": {},
   "source": [
    "## CRM Agent with ADK\n",
    "https://github.com/ra2085/apigee-adk-workshop.git\n",
    "<table align=\"left\">\n",
    "    <td style=\"text-align: center\">\n",
    "        <a href=\"https://colab.research.google.com/github/ra2085/apigee-adk-workshop/blob/main/notebooks/crm-agent.ipynb\">\n",
    "          <img src=\"https://cloud.google.com/ml-engine/images/colab-logo-32px.png\" alt=\"Google Colaboratory logo\\\"><br> Open in Colab\n",
    "        </a>\n",
    "      </td>\n",
    "      <td style=\"text-align: center\">\n",
    "        <a href=\"https://console.cloud.google.com/vertex-ai/colab/import/https%3A%2F%2Fraw.githubusercontent.com%2Fra2085%2Fapigee-adk-workshop%2Fmain%2Fnotebooks%2Fcrm-agent.ipynb\">\n",
    "          <img width=\"32px\" src=\"https://lh3.googleusercontent.com/JmcxdQi-qOpctIvWKgPtrzZdJJK-J3sWE1RsfjZNwshCFgE_9fULcNpuXYTilIR2hjwN\" alt=\"Google Cloud Colab Enterprise logo\"><br> Open in Colab Enterprise\n",
    "        </a>\n",
    "      </td>    \n",
    "      <td style=\"text-align: center\">\n",
    "        <a href=\"https://console.cloud.google.com/vertex-ai/workbench/deploy-notebook?download_url=https://raw.githubusercontent.com/ra2085/apigee-adk-workshop/main/notebooks/crm-agent.ipynb\">\n",
    "          <img src=\"https://lh3.googleusercontent.com/UiNooY4LUgW_oTvpsNhPpQzsstV5W8F7rYgxgGBD85cWJoLmrOzhVs_ksK_vgx40SHs7jCqkTkCk=e14-rj-sc0xffffff-h130-w32\" alt=\"Vertex AI logo\"><br> Open in Workbench\n",
    "        </a>\n",
    "      </td>\n",
    "      <td style=\"text-align: center\">\n",
    "        <a href=\"https://github.com/ra2085/apigee-adk-workshop/blob/main/notebooks/crm-agent.ipynb\">\n",
    "          <img src=\"https://cloud.google.com/ml-engine/images/github-logo-32px.png\" alt=\"GitHub logo\"><br> View on GitHub\n",
    "        </a>\n",
    "      </td>\n",
    "</table>\n",
    "<br />\n",
    "<br />\n",
    "<br />\n",
    "<br />"
   ]
  },
  {
   "cell_type": "markdown",
   "id": "eb1512bc",
   "metadata": {},
   "source": [
    "### Install Dependencies"
   ]
  },
  {
   "cell_type": "code",
   "execution_count": null,
   "id": "dc6425f5",
   "metadata": {},
   "outputs": [],
   "source": [
    "%pip install google-adk -q\n",
    "%pip install litellm -q"
   ]
  },
  {
   "cell_type": "markdown",
   "id": "cfc20b33",
   "metadata": {},
   "source": [
    "### Import Dependencies"
   ]
  },
  {
   "cell_type": "code",
   "execution_count": 4,
   "id": "70e94e16",
   "metadata": {},
   "outputs": [],
   "source": [
    "import os\n",
    "from dotenv import load_dotenv\n",
    "from google.genai import types\n",
    "from google.adk.agents import Agent\n",
    "from google.adk.runners import Runner\n",
    "from google.adk.sessions import InMemorySessionService\n",
    "from google.adk.artifacts.in_memory_artifact_service import InMemoryArtifactService # Optional\n",
    "from google.adk.tools.mcp_tool.mcp_toolset import MCPToolset, SseServerParams, StdioServerParameters\n",
    "from google.adk.tools.openapi_tool.auth.auth_helpers import token_to_scheme_credential\n",
    "from google.adk.tools.apihub_tool.apihub_toolset import APIHubToolset\n",
    "from fastapi.openapi.models import OAuth2\n",
    "from fastapi.openapi.models import OAuthFlowClientCredentials\n",
    "from fastapi.openapi.models import OAuthFlows\n",
    "from google.adk.auth import AuthCredential\n",
    "from google.adk.auth import AuthCredentialTypes\n",
    "from google.adk.auth import OAuth2Auth\n"
   ]
  },
  {
   "cell_type": "code",
   "execution_count": null,
   "id": "19788c84",
   "metadata": {},
   "outputs": [],
   "source": [
    "#os.environ[\"GOOGLE_API_KEY\"] = \"\" # <--- REPLACE\n",
    "os.environ[\"GOOGLE_GENAI_USE_VERTEXAI\"]=\"\"\n",
    "os.environ[\"GOOGLE_CLOUD_PROJECT\"]=\"\"\n",
    "os.environ[\"GOOGLE_CLOUD_LOCATION\"]=\"\""
   ]
  },
  {
   "cell_type": "markdown",
   "id": "af0eb357",
   "metadata": {},
   "source": [
    "### Initialize API Hub Tools"
   ]
  },
  {
   "cell_type": "code",
   "execution_count": 6,
   "id": "1cef034b",
   "metadata": {},
   "outputs": [],
   "source": [
    "async def get_customer_tools_async():\n",
    "    \"\"\"Gets CRM from API Hub.\"\"\"\n",
    "    auth_scheme = OAuth2(\n",
    "        flows=OAuthFlows(\n",
    "            clientCredentials=OAuthFlowClientCredentials(\n",
    "                tokenUrl=\"https://APIGEE_HOST/mcp/token\", # @param {type:\"string\"}\n",
    "                scopes={},\n",
    "                \n",
    "            )\n",
    "        )\n",
    "    )\n",
    "    auth_credential = AuthCredential(\n",
    "        auth_type=AuthCredentialTypes.OAUTH2,\n",
    "        oauth2=OAuth2Auth(\n",
    "            client_id=\"YOUR_OAUTH_CLIENT_ID\", # @param {type:\"string\"}\n",
    "            client_secret=\"YOUR_OAUTH_CLIENT_SECRET\" # @param {type:\"string\"}\n",
    "        ),\n",
    "    )\n",
    "\n",
    "    sample_toolset_with_auth = APIHubToolset(\n",
    "        name=\"apihub-crm-tool\",\n",
    "        description=\"Sample Tool\",\n",
    "        #service_account=\"\",\n",
    "        access_token=\"\",\n",
    "        apihub_resource_name=\"projects/cymbal-ai/locations/us-central1/apis/customers-api\",  # @param {type:\"string\"}\n",
    "        auth_scheme=auth_scheme,\n",
    "        auth_credential=auth_credential,\n",
    "    )\n",
    "    tools = sample_toolset_with_auth.get_tools()\n",
    "    return tools"
   ]
  },
  {
   "cell_type": "markdown",
   "id": "2c1e8e4e",
   "metadata": {},
   "source": [
    "### Initialize CRM Agent"
   ]
  },
  {
   "cell_type": "code",
   "execution_count": 7,
   "id": "a27fb99b",
   "metadata": {},
   "outputs": [],
   "source": [
    "async def get_customer_agent_async():\n",
    "    \"\"\"Creates a Customer Agent\"\"\"\n",
    "    tools = await get_customer_tools_async()\n",
    "    print(f\"Fetched {len(tools)} customer tools from API Hub.\")\n",
    "    customer_agent = Agent(\n",
    "        model=\"gemini-2.5-pro-preview-05-06\",\n",
    "        name=\"customer_agent\",\n",
    "        description=\"Central authority for all customer account data and related engagement triggers\",\n",
    "        instruction=\"\"\"\n",
    "- You are responsible for managing customer account data. Your primary function is to use the available tool operations to accurately and securely handle customer information.\n",
    "  - **Manage user profiles:**\n",
    "    - Retrieve comprehensive profile details for a specific customer using their customer ID. This can be used for purposes like pre-filling order forms.\n",
    "  - **Manage customer addresses:**\n",
    "    - Retrieve a list of all saved addresses for a specific customer.\n",
    "    - Retrieve the details of a specific address for a customer.\n",
    "\n",
    "Present the infromation in a nice format.\n",
    "\"\"\",\n",
    "        tools=tools\n",
    "    )\n",
    "    return customer_agent"
   ]
  },
  {
   "cell_type": "markdown",
   "id": "11b4d644",
   "metadata": {},
   "source": [
    "### Assemble main function"
   ]
  },
  {
   "cell_type": "code",
   "execution_count": 8,
   "id": "a9fe43e3",
   "metadata": {},
   "outputs": [],
   "source": [
    "async def async_main():\n",
    "  session_service = InMemorySessionService()\n",
    "  # Artifact service might not be needed for this example\n",
    "  artifacts_service = InMemoryArtifactService()\n",
    "\n",
    "  session = session_service.create_session(\n",
    "      state={}, app_name='crm_agent', user_id='user_fs'\n",
    "  )\n",
    "\n",
    "  query = \"get the first address from customer 1234\" \n",
    "  print(f\"User Query: '{query}'\")\n",
    "  content = types.Content(role='user', parts=[types.Part(text=query)])\n",
    "\n",
    "  root_agent = await get_customer_agent_async()\n",
    "\n",
    "  runner = Runner(\n",
    "      app_name='crm_agent',\n",
    "      agent=root_agent,\n",
    "      artifact_service=artifacts_service, # Optional\n",
    "      session_service=session_service,\n",
    "  )\n",
    "\n",
    "  print(\"Running agent...\")\n",
    "  events_async = runner.run_async(\n",
    "      session_id=session.id, user_id=session.user_id, new_message=content\n",
    "  )\n",
    "\n",
    "  async for event in events_async:\n",
    "    print(f\"Event received: {event}\")"
   ]
  },
  {
   "cell_type": "markdown",
   "id": "bbf69051",
   "metadata": {},
   "source": [
    "### Execute Agent"
   ]
  },
  {
   "cell_type": "code",
   "execution_count": null,
   "id": "451d827b",
   "metadata": {},
   "outputs": [],
   "source": [
    "await async_main()"
   ]
  }
 ],
 "metadata": {
  "kernelspec": {
   "display_name": ".venv",
   "language": "python",
   "name": "python3"
  },
  "language_info": {
   "codemirror_mode": {
    "name": "ipython",
    "version": 3
   },
   "file_extension": ".py",
   "mimetype": "text/x-python",
   "name": "python",
   "nbconvert_exporter": "python",
   "pygments_lexer": "ipython3",
   "version": "3.13.3"
  }
 },
 "nbformat": 4,
 "nbformat_minor": 5
}
