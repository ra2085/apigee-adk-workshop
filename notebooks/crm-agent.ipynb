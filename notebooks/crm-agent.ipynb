{
 "cells": [
  {
   "cell_type": "markdown",
   "id": "d1c59898",
   "metadata": {},
   "source": [
    "## CRM Agent with ADK\n",
    "https://github.com/ra2085/apigee-adk-workshop.git\n",
    "<table align=\"left\">\n",
    "    <td style=\"text-align: center\">\n",
    "        <a href=\"https://colab.research.google.com/github/ra2085/apigee-adk-workshop/blob/main/notebooks/crm-agent.ipynb\">\n",
    "          <img src=\"https://cloud.google.com/ml-engine/images/colab-logo-32px.png\" alt=\"Google Colaboratory logo\\\"><br> Open in Colab\n",
    "        </a>\n",
    "      </td>\n",
    "      <td style=\"text-align: center\">\n",
    "        <a href=\"https://console.cloud.google.com/vertex-ai/colab/import/https%3A%2F%2Fraw.githubusercontent.com%2Fra2085%2Fapigee-adk-workshop%2Fmain%2Fnotebooks%2Fcrm-agent.ipynb\">\n",
    "          <img width=\"32px\" src=\"https://lh3.googleusercontent.com/JmcxdQi-qOpctIvWKgPtrzZdJJK-J3sWE1RsfjZNwshCFgE_9fULcNpuXYTilIR2hjwN\" alt=\"Google Cloud Colab Enterprise logo\"><br> Open in Colab Enterprise\n",
    "        </a>\n",
    "      </td>    \n",
    "      <td style=\"text-align: center\">\n",
    "        <a href=\"https://console.cloud.google.com/vertex-ai/workbench/deploy-notebook?download_url=https://raw.githubusercontent.com/ra2085/apigee-adk-workshop/main/notebooks/crm-agent.ipynb\">\n",
    "          <img src=\"https://lh3.googleusercontent.com/UiNooY4LUgW_oTvpsNhPpQzsstV5W8F7rYgxgGBD85cWJoLmrOzhVs_ksK_vgx40SHs7jCqkTkCk=e14-rj-sc0xffffff-h130-w32\" alt=\"Vertex AI logo\"><br> Open in Workbench\n",
    "        </a>\n",
    "      </td>\n",
    "      <td style=\"text-align: center\">\n",
    "        <a href=\"https://github.com/ra2085/apigee-adk-workshop/blob/main/notebooks/crm-agent.ipynb\">\n",
    "          <img src=\"https://cloud.google.com/ml-engine/images/github-logo-32px.png\" alt=\"GitHub logo\"><br> View on GitHub\n",
    "        </a>\n",
    "      </td>\n",
    "</table>\n",
    "<br />\n",
    "<br />\n",
    "<br />\n",
    "<br />"
   ]
  },
  {
   "cell_type": "markdown",
   "id": "eb1512bc",
   "metadata": {},
   "source": [
    "### Install Dependencies"
   ]
  },
  {
   "cell_type": "code",
   "execution_count": 78,
   "id": "dc6425f5",
   "metadata": {},
   "outputs": [
    {
     "name": "stdout",
     "output_type": "stream",
     "text": [
      "Note: you may need to restart the kernel to use updated packages.\n",
      "Note: you may need to restart the kernel to use updated packages.\n"
     ]
    }
   ],
   "source": [
    "%pip install google-adk -q\n",
    "%pip install litellm -q"
   ]
  },
  {
   "cell_type": "code",
   "execution_count": null,
   "id": "073dcd73",
   "metadata": {},
   "outputs": [],
   "source": [
    "os.environ[\"GOOGLE_API_KEY\"] = \"\" # <--- REPLACE\n"
   ]
  },
  {
   "cell_type": "markdown",
   "id": "cfc20b33",
   "metadata": {},
   "source": [
    "### Import Dependencies"
   ]
  },
  {
   "cell_type": "code",
   "execution_count": 80,
   "id": "70e94e16",
   "metadata": {},
   "outputs": [],
   "source": [
    "import os\n",
    "from dotenv import load_dotenv\n",
    "from google.genai import types\n",
    "from google.adk.agents import Agent\n",
    "from google.adk.runners import Runner\n",
    "from google.adk.sessions import InMemorySessionService\n",
    "from google.adk.artifacts.in_memory_artifact_service import InMemoryArtifactService # Optional\n",
    "from google.adk.tools.mcp_tool.mcp_toolset import MCPToolset, SseServerParams, StdioServerParameters\n",
    "from google.adk.tools.openapi_tool.auth.auth_helpers import token_to_scheme_credential\n",
    "from google.adk.tools.apihub_tool.apihub_toolset import APIHubToolset\n",
    "from fastapi.openapi.models import OAuth2\n",
    "from fastapi.openapi.models import OAuthFlowClientCredentials\n",
    "from fastapi.openapi.models import OAuthFlows\n",
    "from google.adk.auth import AuthCredential\n",
    "from google.adk.auth import AuthCredentialTypes\n",
    "from google.adk.auth import OAuth2Auth\n"
   ]
  },
  {
   "cell_type": "markdown",
   "id": "af0eb357",
   "metadata": {},
   "source": [
    "### Initialize API Hub Tools"
   ]
  },
  {
   "cell_type": "code",
   "execution_count": null,
   "id": "1cef034b",
   "metadata": {},
   "outputs": [],
   "source": [
    "async def get_customer_tools_async():\n",
    "    \"\"\"Gets CRM from API Hub.\"\"\"\n",
    "    auth_scheme = OAuth2(\n",
    "        flows=OAuthFlows(\n",
    "            clientCredentials=OAuthFlowClientCredentials(\n",
    "                tokenUrl=\"https://APIGEE_HOST/mcp/token\", # @param {type:\"string\"}\n",
    "                scopes={},\n",
    "                \n",
    "            )\n",
    "        )\n",
    "    )\n",
    "    auth_credential = AuthCredential(\n",
    "        auth_type=AuthCredentialTypes.OAUTH2,\n",
    "        oauth2=OAuth2Auth(\n",
    "            client_id=\"YOUR_OAUTH_CLIENT_ID\", # @param {type:\"string\"}\n",
    "            client_secret=\"YOUR_OAUTH_CLIENT_SECRET\" # @param {type:\"string\"}\n",
    "        ),\n",
    "    )\n",
    "\n",
    "    sample_toolset_with_auth = APIHubToolset(\n",
    "        name=\"apihub-crm-tool\",\n",
    "        description=\"Sample Tool\",\n",
    "        #service_account=\"\",\n",
    "        access_token=\"\",\n",
    "        apihub_resource_name=\"projects/cymbal-ai/locations/us-central1/apis/customers-api\",  # @param {type:\"string\"}\n",
    "        auth_scheme=auth_scheme,\n",
    "        auth_credential=auth_credential,\n",
    "    )\n",
    "    tools = sample_toolset_with_auth.get_tools()\n",
    "    return tools"
   ]
  },
  {
   "cell_type": "markdown",
   "id": "2c1e8e4e",
   "metadata": {},
   "source": [
    "### Initialize CRM Agent"
   ]
  },
  {
   "cell_type": "code",
   "execution_count": 82,
   "id": "a27fb99b",
   "metadata": {},
   "outputs": [],
   "source": [
    "async def get_customer_agent_async():\n",
    "    \"\"\"Creates a Customer Agent\"\"\"\n",
    "    tools = await get_customer_tools_async()\n",
    "    print(f\"Fetched {len(tools)} customer tools from API Hub.\")\n",
    "    customer_agent = Agent(\n",
    "        model=\"gemini-2.5-pro-preview-05-06\",\n",
    "        name=\"customer_agent\",\n",
    "        description=\"Central authority for all customer account data and related engagement triggers\",\n",
    "        instruction=\"\"\"\n",
    "- You are responsible for managing customer account data. Your primary function is to use the available tool operations to accurately and securely handle customer information.\n",
    "  - **Manage user profiles:**\n",
    "    - Retrieve comprehensive profile details for a specific customer using their customer ID. This can be used for purposes like pre-filling order forms.\n",
    "  - **Manage customer addresses:**\n",
    "    - Retrieve a list of all saved addresses for a specific customer.\n",
    "    - Retrieve the details of a specific address for a customer.\n",
    "\n",
    "Present the infromation in a nice format.\n",
    "\"\"\",\n",
    "        tools=tools\n",
    "    )\n",
    "    return customer_agent"
   ]
  },
  {
   "cell_type": "markdown",
   "id": "11b4d644",
   "metadata": {},
   "source": [
    "### Assemble main function"
   ]
  },
  {
   "cell_type": "code",
   "execution_count": 83,
   "id": "a9fe43e3",
   "metadata": {},
   "outputs": [],
   "source": [
    "async def async_main():\n",
    "  session_service = InMemorySessionService()\n",
    "  # Artifact service might not be needed for this example\n",
    "  artifacts_service = InMemoryArtifactService()\n",
    "\n",
    "  session = session_service.create_session(\n",
    "      state={}, app_name='crm_agent', user_id='user_fs'\n",
    "  )\n",
    "\n",
    "  query = \"get the first address from customer 1234\" \n",
    "  print(f\"User Query: '{query}'\")\n",
    "  content = types.Content(role='user', parts=[types.Part(text=query)])\n",
    "\n",
    "  root_agent = await get_customer_agent_async()\n",
    "\n",
    "  runner = Runner(\n",
    "      app_name='crm_agent',\n",
    "      agent=root_agent,\n",
    "      artifact_service=artifacts_service, # Optional\n",
    "      session_service=session_service,\n",
    "  )\n",
    "\n",
    "  print(\"Running agent...\")\n",
    "  events_async = runner.run_async(\n",
    "      session_id=session.id, user_id=session.user_id, new_message=content\n",
    "  )\n",
    "\n",
    "  async for event in events_async:\n",
    "    print(f\"Event received: {event}\")"
   ]
  },
  {
   "cell_type": "markdown",
   "id": "bbf69051",
   "metadata": {},
   "source": [
    "### Execute Agent"
   ]
  },
  {
   "cell_type": "code",
   "execution_count": 84,
   "id": "451d827b",
   "metadata": {},
   "outputs": [
    {
     "name": "stdout",
     "output_type": "stream",
     "text": [
      "User Query: 'get the first address from customer 1234'\n",
      "Fetched 14 customer tools from API Hub.\n",
      "Running agent...\n"
     ]
    },
    {
     "name": "stderr",
     "output_type": "stream",
     "text": [
      "Warning: there are non-text parts in the response: ['function_call'],returning concatenated text result from text parts,check out the non text parts for full response from model.\n"
     ]
    },
    {
     "name": "stdout",
     "output_type": "stream",
     "text": [
      "Event received: content=Content(parts=[Part(video_metadata=None, thought=None, code_execution_result=None, executable_code=None, file_data=None, function_call=None, function_response=None, inline_data=None, text=\"Okay, I can help you with that. I'll fetch the first address for the customer.\\n\\n\"), Part(video_metadata=None, thought=None, code_execution_result=None, executable_code=None, file_data=None, function_call=FunctionCall(id='adk-35752da3-8ed7-4860-864e-201d1a1b2e3e', args={'page_size': 1}, name='get_customer_addresses'), function_response=None, inline_data=None, text=None)], role='model') grounding_metadata=None partial=None turn_complete=None error_code=None error_message=None interrupted=None custom_metadata=None invocation_id='e-0e8c8978-26cc-4485-b6ca-017d0781f4e4' author='customer_agent' actions=EventActions(skip_summarization=None, state_delta={}, artifact_delta={}, transfer_to_agent=None, escalate=None, requested_auth_configs={}) long_running_tool_ids=set() branch=None id='ZBy4Zjwn' timestamp=1747014445.574591\n"
     ]
    },
    {
     "ename": "AttributeError",
     "evalue": "'NoneType' object has no attribute 'keys'",
     "output_type": "error",
     "traceback": [
      "\u001b[31m---------------------------------------------------------------------------\u001b[39m",
      "\u001b[31mAttributeError\u001b[39m                            Traceback (most recent call last)",
      "\u001b[36mCell\u001b[39m\u001b[36m \u001b[39m\u001b[32mIn[84]\u001b[39m\u001b[32m, line 1\u001b[39m\n\u001b[32m----> \u001b[39m\u001b[32m1\u001b[39m \u001b[38;5;28;01mawait\u001b[39;00m async_main()\n",
      "\u001b[36mCell\u001b[39m\u001b[36m \u001b[39m\u001b[32mIn[83]\u001b[39m\u001b[32m, line 28\u001b[39m, in \u001b[36masync_main\u001b[39m\u001b[34m()\u001b[39m\n\u001b[32m     23\u001b[39m \u001b[38;5;28mprint\u001b[39m(\u001b[33m\"\u001b[39m\u001b[33mRunning agent...\u001b[39m\u001b[33m\"\u001b[39m)\n\u001b[32m     24\u001b[39m events_async = runner.run_async(\n\u001b[32m     25\u001b[39m     session_id=session.id, user_id=session.user_id, new_message=content\n\u001b[32m     26\u001b[39m )\n\u001b[32m---> \u001b[39m\u001b[32m28\u001b[39m \u001b[38;5;28;01masync\u001b[39;00m \u001b[38;5;28;01mfor\u001b[39;00m event \u001b[38;5;129;01min\u001b[39;00m events_async:\n\u001b[32m     29\u001b[39m   \u001b[38;5;28mprint\u001b[39m(\u001b[33mf\u001b[39m\u001b[33m\"\u001b[39m\u001b[33mEvent received: \u001b[39m\u001b[38;5;132;01m{\u001b[39;00mevent\u001b[38;5;132;01m}\u001b[39;00m\u001b[33m\"\u001b[39m)\n",
      "\u001b[36mFile \u001b[39m\u001b[32m~/Documents/apigee-adk-workshop/.venv/lib/python3.13/site-packages/google/adk/runners.py:197\u001b[39m, in \u001b[36mRunner.run_async\u001b[39m\u001b[34m(self, user_id, session_id, new_message, run_config)\u001b[39m\n\u001b[32m    189\u001b[39m   \u001b[38;5;28;01mawait\u001b[39;00m \u001b[38;5;28mself\u001b[39m._append_new_message_to_session(\n\u001b[32m    190\u001b[39m       session,\n\u001b[32m    191\u001b[39m       new_message,\n\u001b[32m    192\u001b[39m       invocation_context,\n\u001b[32m    193\u001b[39m       run_config.save_input_blobs_as_artifacts,\n\u001b[32m    194\u001b[39m   )\n\u001b[32m    196\u001b[39m invocation_context.agent = \u001b[38;5;28mself\u001b[39m._find_agent_to_run(session, root_agent)\n\u001b[32m--> \u001b[39m\u001b[32m197\u001b[39m \u001b[38;5;28;01masync\u001b[39;00m \u001b[38;5;28;01mfor\u001b[39;00m event \u001b[38;5;129;01min\u001b[39;00m invocation_context.agent.run_async(invocation_context):\n\u001b[32m    198\u001b[39m   \u001b[38;5;28;01mif\u001b[39;00m \u001b[38;5;129;01mnot\u001b[39;00m event.partial:\n\u001b[32m    199\u001b[39m     \u001b[38;5;28mself\u001b[39m.session_service.append_event(session=session, event=event)\n",
      "\u001b[36mFile \u001b[39m\u001b[32m~/Documents/apigee-adk-workshop/.venv/lib/python3.13/site-packages/google/adk/agents/base_agent.py:133\u001b[39m, in \u001b[36mBaseAgent.run_async\u001b[39m\u001b[34m(self, parent_context)\u001b[39m\n\u001b[32m    130\u001b[39m \u001b[38;5;28;01mif\u001b[39;00m ctx.end_invocation:\n\u001b[32m    131\u001b[39m   \u001b[38;5;28;01mreturn\u001b[39;00m\n\u001b[32m--> \u001b[39m\u001b[32m133\u001b[39m \u001b[38;5;28;01masync\u001b[39;00m \u001b[38;5;28;01mfor\u001b[39;00m event \u001b[38;5;129;01min\u001b[39;00m \u001b[38;5;28mself\u001b[39m._run_async_impl(ctx):\n\u001b[32m    134\u001b[39m   \u001b[38;5;28;01myield\u001b[39;00m event\n\u001b[32m    136\u001b[39m \u001b[38;5;28;01mif\u001b[39;00m ctx.end_invocation:\n",
      "\u001b[36mFile \u001b[39m\u001b[32m~/Documents/apigee-adk-workshop/.venv/lib/python3.13/site-packages/google/adk/agents/llm_agent.py:246\u001b[39m, in \u001b[36mLlmAgent._run_async_impl\u001b[39m\u001b[34m(self, ctx)\u001b[39m\n\u001b[32m    242\u001b[39m \u001b[38;5;129m@override\u001b[39m\n\u001b[32m    243\u001b[39m \u001b[38;5;28;01masync\u001b[39;00m \u001b[38;5;28;01mdef\u001b[39;00m\u001b[38;5;250m \u001b[39m\u001b[34m_run_async_impl\u001b[39m(\n\u001b[32m    244\u001b[39m     \u001b[38;5;28mself\u001b[39m, ctx: InvocationContext\n\u001b[32m    245\u001b[39m ) -> AsyncGenerator[Event, \u001b[38;5;28;01mNone\u001b[39;00m]:\n\u001b[32m--> \u001b[39m\u001b[32m246\u001b[39m   \u001b[38;5;28;01masync\u001b[39;00m \u001b[38;5;28;01mfor\u001b[39;00m event \u001b[38;5;129;01min\u001b[39;00m \u001b[38;5;28mself\u001b[39m._llm_flow.run_async(ctx):\n\u001b[32m    247\u001b[39m     \u001b[38;5;28mself\u001b[39m.__maybe_save_output_to_state(event)\n\u001b[32m    248\u001b[39m     \u001b[38;5;28;01myield\u001b[39;00m event\n",
      "\u001b[36mFile \u001b[39m\u001b[32m~/Documents/apigee-adk-workshop/.venv/lib/python3.13/site-packages/google/adk/flows/llm_flows/base_llm_flow.py:243\u001b[39m, in \u001b[36mBaseLlmFlow.run_async\u001b[39m\u001b[34m(self, invocation_context)\u001b[39m\n\u001b[32m    241\u001b[39m \u001b[38;5;28;01mwhile\u001b[39;00m \u001b[38;5;28;01mTrue\u001b[39;00m:\n\u001b[32m    242\u001b[39m   last_event = \u001b[38;5;28;01mNone\u001b[39;00m\n\u001b[32m--> \u001b[39m\u001b[32m243\u001b[39m   \u001b[38;5;28;01masync\u001b[39;00m \u001b[38;5;28;01mfor\u001b[39;00m event \u001b[38;5;129;01min\u001b[39;00m \u001b[38;5;28mself\u001b[39m._run_one_step_async(invocation_context):\n\u001b[32m    244\u001b[39m     last_event = event\n\u001b[32m    245\u001b[39m     \u001b[38;5;28;01myield\u001b[39;00m event\n",
      "\u001b[36mFile \u001b[39m\u001b[32m~/Documents/apigee-adk-workshop/.venv/lib/python3.13/site-packages/google/adk/flows/llm_flows/base_llm_flow.py:272\u001b[39m, in \u001b[36mBaseLlmFlow._run_one_step_async\u001b[39m\u001b[34m(self, invocation_context)\u001b[39m\n\u001b[32m    263\u001b[39m model_response_event = Event(\n\u001b[32m    264\u001b[39m     invocation_id=invocation_context.invocation_id,\n\u001b[32m    265\u001b[39m     author=invocation_context.agent.name,\n\u001b[32m    266\u001b[39m     branch=invocation_context.branch,\n\u001b[32m    267\u001b[39m )\n\u001b[32m    268\u001b[39m \u001b[38;5;28;01masync\u001b[39;00m \u001b[38;5;28;01mfor\u001b[39;00m llm_response \u001b[38;5;129;01min\u001b[39;00m \u001b[38;5;28mself\u001b[39m._call_llm_async(\n\u001b[32m    269\u001b[39m     invocation_context, llm_request, model_response_event\n\u001b[32m    270\u001b[39m ):\n\u001b[32m    271\u001b[39m   \u001b[38;5;66;03m# Postprocess after calling the LLM.\u001b[39;00m\n\u001b[32m--> \u001b[39m\u001b[32m272\u001b[39m   \u001b[38;5;28;01masync\u001b[39;00m \u001b[38;5;28;01mfor\u001b[39;00m event \u001b[38;5;129;01min\u001b[39;00m \u001b[38;5;28mself\u001b[39m._postprocess_async(\n\u001b[32m    273\u001b[39m       invocation_context, llm_request, llm_response, model_response_event\n\u001b[32m    274\u001b[39m   ):\n\u001b[32m    275\u001b[39m     \u001b[38;5;66;03m# Use a new id for every event.\u001b[39;00m\n\u001b[32m    276\u001b[39m     event.id = Event.new_id()\n\u001b[32m    277\u001b[39m     \u001b[38;5;28;01myield\u001b[39;00m event\n",
      "\u001b[36mFile \u001b[39m\u001b[32m~/Documents/apigee-adk-workshop/.venv/lib/python3.13/site-packages/google/adk/flows/llm_flows/base_llm_flow.py:342\u001b[39m, in \u001b[36mBaseLlmFlow._postprocess_async\u001b[39m\u001b[34m(self, invocation_context, llm_request, llm_response, model_response_event)\u001b[39m\n\u001b[32m    340\u001b[39m \u001b[38;5;66;03m# Handles function calls.\u001b[39;00m\n\u001b[32m    341\u001b[39m \u001b[38;5;28;01mif\u001b[39;00m model_response_event.get_function_calls():\n\u001b[32m--> \u001b[39m\u001b[32m342\u001b[39m   \u001b[38;5;28;01masync\u001b[39;00m \u001b[38;5;28;01mfor\u001b[39;00m event \u001b[38;5;129;01min\u001b[39;00m \u001b[38;5;28mself\u001b[39m._postprocess_handle_function_calls_async(\n\u001b[32m    343\u001b[39m       invocation_context, model_response_event, llm_request\n\u001b[32m    344\u001b[39m   ):\n\u001b[32m    345\u001b[39m     \u001b[38;5;28;01myield\u001b[39;00m event\n",
      "\u001b[36mFile \u001b[39m\u001b[32m~/Documents/apigee-adk-workshop/.venv/lib/python3.13/site-packages/google/adk/flows/llm_flows/base_llm_flow.py:417\u001b[39m, in \u001b[36mBaseLlmFlow._postprocess_handle_function_calls_async\u001b[39m\u001b[34m(self, invocation_context, function_call_event, llm_request)\u001b[39m\n\u001b[32m    411\u001b[39m \u001b[38;5;28;01masync\u001b[39;00m \u001b[38;5;28;01mdef\u001b[39;00m\u001b[38;5;250m \u001b[39m\u001b[34m_postprocess_handle_function_calls_async\u001b[39m(\n\u001b[32m    412\u001b[39m     \u001b[38;5;28mself\u001b[39m,\n\u001b[32m    413\u001b[39m     invocation_context: InvocationContext,\n\u001b[32m    414\u001b[39m     function_call_event: Event,\n\u001b[32m    415\u001b[39m     llm_request: LlmRequest,\n\u001b[32m    416\u001b[39m ) -> AsyncGenerator[Event, \u001b[38;5;28;01mNone\u001b[39;00m]:\n\u001b[32m--> \u001b[39m\u001b[32m417\u001b[39m   \u001b[38;5;28;01mif\u001b[39;00m function_response_event := \u001b[38;5;28;01mawait\u001b[39;00m functions.handle_function_calls_async(\n\u001b[32m    418\u001b[39m       invocation_context, function_call_event, llm_request.tools_dict\n\u001b[32m    419\u001b[39m   ):\n\u001b[32m    420\u001b[39m     auth_event = functions.generate_auth_event(\n\u001b[32m    421\u001b[39m         invocation_context, function_response_event\n\u001b[32m    422\u001b[39m     )\n\u001b[32m    423\u001b[39m     \u001b[38;5;28;01mif\u001b[39;00m auth_event:\n",
      "\u001b[36mFile \u001b[39m\u001b[32m~/Documents/apigee-adk-workshop/.venv/lib/python3.13/site-packages/google/adk/flows/llm_flows/functions.py:165\u001b[39m, in \u001b[36mhandle_function_calls_async\u001b[39m\u001b[34m(invocation_context, function_call_event, tools_dict, filters)\u001b[39m\n\u001b[32m    162\u001b[39m     function_response = \u001b[38;5;28;01mawait\u001b[39;00m function_response\n\u001b[32m    164\u001b[39m \u001b[38;5;28;01mif\u001b[39;00m \u001b[38;5;129;01mnot\u001b[39;00m function_response:\n\u001b[32m--> \u001b[39m\u001b[32m165\u001b[39m   function_response = \u001b[38;5;28;01mawait\u001b[39;00m __call_tool_async(\n\u001b[32m    166\u001b[39m       tool, args=function_args, tool_context=tool_context\n\u001b[32m    167\u001b[39m   )\n\u001b[32m    169\u001b[39m \u001b[38;5;66;03m# after_tool_callback (sync or async)\u001b[39;00m\n\u001b[32m    170\u001b[39m \u001b[38;5;28;01mif\u001b[39;00m agent.after_tool_callback:\n",
      "\u001b[36mFile \u001b[39m\u001b[32m~/Documents/apigee-adk-workshop/.venv/lib/python3.13/site-packages/google/adk/flows/llm_flows/functions.py:430\u001b[39m, in \u001b[36m__call_tool_async\u001b[39m\u001b[34m(tool, args, tool_context)\u001b[39m\n\u001b[32m    428\u001b[39m \u001b[38;5;28;01mwith\u001b[39;00m tracer.start_as_current_span(\u001b[33mf\u001b[39m\u001b[33m'\u001b[39m\u001b[33mtool_call [\u001b[39m\u001b[38;5;132;01m{\u001b[39;00mtool.name\u001b[38;5;132;01m}\u001b[39;00m\u001b[33m]\u001b[39m\u001b[33m'\u001b[39m):\n\u001b[32m    429\u001b[39m   trace_tool_call(args=args)\n\u001b[32m--> \u001b[39m\u001b[32m430\u001b[39m   \u001b[38;5;28;01mreturn\u001b[39;00m \u001b[38;5;28;01mawait\u001b[39;00m tool.run_async(args=args, tool_context=tool_context)\n",
      "\u001b[36mFile \u001b[39m\u001b[32m~/Documents/apigee-adk-workshop/.venv/lib/python3.13/site-packages/google/adk/tools/openapi_tool/openapi_spec_parser/rest_api_tool.py:458\u001b[39m, in \u001b[36mRestApiTool.run_async\u001b[39m\u001b[34m(self, args, tool_context)\u001b[39m\n\u001b[32m    454\u001b[39m \u001b[38;5;129m@override\u001b[39m\n\u001b[32m    455\u001b[39m \u001b[38;5;28;01masync\u001b[39;00m \u001b[38;5;28;01mdef\u001b[39;00m\u001b[38;5;250m \u001b[39m\u001b[34mrun_async\u001b[39m(\n\u001b[32m    456\u001b[39m     \u001b[38;5;28mself\u001b[39m, *, args: \u001b[38;5;28mdict\u001b[39m[\u001b[38;5;28mstr\u001b[39m, Any], tool_context: Optional[ToolContext]\n\u001b[32m    457\u001b[39m ) -> Dict[\u001b[38;5;28mstr\u001b[39m, Any]:\n\u001b[32m--> \u001b[39m\u001b[32m458\u001b[39m   \u001b[38;5;28;01mreturn\u001b[39;00m \u001b[38;5;28;43mself\u001b[39;49m\u001b[43m.\u001b[49m\u001b[43mcall\u001b[49m\u001b[43m(\u001b[49m\u001b[43margs\u001b[49m\u001b[43m=\u001b[49m\u001b[43margs\u001b[49m\u001b[43m,\u001b[49m\u001b[43m \u001b[49m\u001b[43mtool_context\u001b[49m\u001b[43m=\u001b[49m\u001b[43mtool_context\u001b[49m\u001b[43m)\u001b[49m\n",
      "\u001b[36mFile \u001b[39m\u001b[32m~/Documents/apigee-adk-workshop/.venv/lib/python3.13/site-packages/google/adk/tools/openapi_tool/openapi_spec_parser/rest_api_tool.py:477\u001b[39m, in \u001b[36mRestApiTool.call\u001b[39m\u001b[34m(self, args, tool_context)\u001b[39m\n\u001b[32m    473\u001b[39m \u001b[38;5;66;03m# Prepare auth credentials for the API call\u001b[39;00m\n\u001b[32m    474\u001b[39m tool_auth_handler = ToolAuthHandler.from_tool_context(\n\u001b[32m    475\u001b[39m     tool_context, \u001b[38;5;28mself\u001b[39m.auth_scheme, \u001b[38;5;28mself\u001b[39m.auth_credential\n\u001b[32m    476\u001b[39m )\n\u001b[32m--> \u001b[39m\u001b[32m477\u001b[39m auth_result = \u001b[43mtool_auth_handler\u001b[49m\u001b[43m.\u001b[49m\u001b[43mprepare_auth_credentials\u001b[49m\u001b[43m(\u001b[49m\u001b[43m)\u001b[49m\n\u001b[32m    478\u001b[39m auth_state, auth_scheme, auth_credential = (\n\u001b[32m    479\u001b[39m     auth_result.state,\n\u001b[32m    480\u001b[39m     auth_result.auth_scheme,\n\u001b[32m    481\u001b[39m     auth_result.auth_credential,\n\u001b[32m    482\u001b[39m )\n\u001b[32m    484\u001b[39m \u001b[38;5;28;01mif\u001b[39;00m auth_state == \u001b[33m\"\u001b[39m\u001b[33mpending\u001b[39m\u001b[33m\"\u001b[39m:\n",
      "\u001b[36mFile \u001b[39m\u001b[32m~/Documents/apigee-adk-workshop/.venv/lib/python3.13/site-packages/google/adk/tools/openapi_tool/openapi_spec_parser/tool_auth_handler.py:263\u001b[39m, in \u001b[36mToolAuthHandler.prepare_auth_credentials\u001b[39m\u001b[34m(self)\u001b[39m\n\u001b[32m    257\u001b[39m   \u001b[38;5;28;01mreturn\u001b[39;00m AuthPreparationResult(\n\u001b[32m    258\u001b[39m       state=\u001b[33m\"\u001b[39m\u001b[33mdone\u001b[39m\u001b[33m\"\u001b[39m,\n\u001b[32m    259\u001b[39m       auth_scheme=\u001b[38;5;28mself\u001b[39m.auth_scheme,\n\u001b[32m    260\u001b[39m       auth_credential=exchanged_credential,\n\u001b[32m    261\u001b[39m   )\n\u001b[32m    262\u001b[39m \u001b[38;5;28;01melse\u001b[39;00m:\n\u001b[32m--> \u001b[39m\u001b[32m263\u001b[39m   \u001b[38;5;28;43mself\u001b[39;49m\u001b[43m.\u001b[49m\u001b[43m_reqeust_credential\u001b[49m\u001b[43m(\u001b[49m\u001b[43m)\u001b[49m\n\u001b[32m    264\u001b[39m   \u001b[38;5;28;01mreturn\u001b[39;00m AuthPreparationResult(\n\u001b[32m    265\u001b[39m       state=\u001b[33m\"\u001b[39m\u001b[33mpending\u001b[39m\u001b[33m\"\u001b[39m,\n\u001b[32m    266\u001b[39m       auth_scheme=\u001b[38;5;28mself\u001b[39m.auth_scheme,\n\u001b[32m    267\u001b[39m       auth_credential=\u001b[38;5;28mself\u001b[39m.auth_credential,\n\u001b[32m    268\u001b[39m   )\n",
      "\u001b[36mFile \u001b[39m\u001b[32m~/Documents/apigee-adk-workshop/.venv/lib/python3.13/site-packages/google/adk/tools/openapi_tool/openapi_spec_parser/tool_auth_handler.py:210\u001b[39m, in \u001b[36mToolAuthHandler._reqeust_credential\u001b[39m\u001b[34m(self)\u001b[39m\n\u001b[32m    205\u001b[39m   \u001b[38;5;28;01mif\u001b[39;00m \u001b[38;5;129;01mnot\u001b[39;00m \u001b[38;5;28mself\u001b[39m.auth_credential.oauth2.client_secret:\n\u001b[32m    206\u001b[39m     \u001b[38;5;28;01mraise\u001b[39;00m AuthCredentialMissingError(\n\u001b[32m    207\u001b[39m         \u001b[33m\"\u001b[39m\u001b[33mOAuth2 credentials client_secret is missing.\u001b[39m\u001b[33m\"\u001b[39m\n\u001b[32m    208\u001b[39m     )\n\u001b[32m--> \u001b[39m\u001b[32m210\u001b[39m \u001b[38;5;28;43mself\u001b[39;49m\u001b[43m.\u001b[49m\u001b[43mtool_context\u001b[49m\u001b[43m.\u001b[49m\u001b[43mrequest_credential\u001b[49m\u001b[43m(\u001b[49m\n\u001b[32m    211\u001b[39m \u001b[43m    \u001b[49m\u001b[43mAuthConfig\u001b[49m\u001b[43m(\u001b[49m\n\u001b[32m    212\u001b[39m \u001b[43m        \u001b[49m\u001b[43mauth_scheme\u001b[49m\u001b[43m=\u001b[49m\u001b[38;5;28;43mself\u001b[39;49m\u001b[43m.\u001b[49m\u001b[43mauth_scheme\u001b[49m\u001b[43m,\u001b[49m\n\u001b[32m    213\u001b[39m \u001b[43m        \u001b[49m\u001b[43mraw_auth_credential\u001b[49m\u001b[43m=\u001b[49m\u001b[38;5;28;43mself\u001b[39;49m\u001b[43m.\u001b[49m\u001b[43mauth_credential\u001b[49m\u001b[43m,\u001b[49m\n\u001b[32m    214\u001b[39m \u001b[43m    \u001b[49m\u001b[43m)\u001b[49m\n\u001b[32m    215\u001b[39m \u001b[43m\u001b[49m\u001b[43m)\u001b[49m\n\u001b[32m    216\u001b[39m \u001b[38;5;28;01mreturn\u001b[39;00m \u001b[38;5;28;01mNone\u001b[39;00m\n",
      "\u001b[36mFile \u001b[39m\u001b[32m~/Documents/apigee-adk-workshop/.venv/lib/python3.13/site-packages/google/adk/tools/tool_context.py:66\u001b[39m, in \u001b[36mToolContext.request_credential\u001b[39m\u001b[34m(self, auth_config)\u001b[39m\n\u001b[32m     63\u001b[39m \u001b[38;5;28;01mif\u001b[39;00m \u001b[38;5;129;01mnot\u001b[39;00m \u001b[38;5;28mself\u001b[39m.function_call_id:\n\u001b[32m     64\u001b[39m   \u001b[38;5;28;01mraise\u001b[39;00m \u001b[38;5;167;01mValueError\u001b[39;00m(\u001b[33m'\u001b[39m\u001b[33mfunction_call_id is not set.\u001b[39m\u001b[33m'\u001b[39m)\n\u001b[32m     65\u001b[39m \u001b[38;5;28mself\u001b[39m._event_actions.requested_auth_configs[\u001b[38;5;28mself\u001b[39m.function_call_id] = (\n\u001b[32m---> \u001b[39m\u001b[32m66\u001b[39m     \u001b[43mAuthHandler\u001b[49m\u001b[43m(\u001b[49m\u001b[43mauth_config\u001b[49m\u001b[43m)\u001b[49m\u001b[43m.\u001b[49m\u001b[43mgenerate_auth_request\u001b[49m\u001b[43m(\u001b[49m\u001b[43m)\u001b[49m\n\u001b[32m     67\u001b[39m )\n",
      "\u001b[36mFile \u001b[39m\u001b[32m~/Documents/apigee-adk-workshop/.venv/lib/python3.13/site-packages/google/adk/auth/auth_handler.py:188\u001b[39m, in \u001b[36mAuthHandler.generate_auth_request\u001b[39m\u001b[34m(self)\u001b[39m\n\u001b[32m    182\u001b[39m   \u001b[38;5;28;01mraise\u001b[39;00m \u001b[38;5;167;01mValueError\u001b[39;00m(\n\u001b[32m    183\u001b[39m       \u001b[33mf\u001b[39m\u001b[33m\"\u001b[39m\u001b[33mAuth Scheme \u001b[39m\u001b[38;5;132;01m{\u001b[39;00m\u001b[38;5;28mself\u001b[39m.auth_config.auth_scheme.type_\u001b[38;5;132;01m}\u001b[39;00m\u001b[33m requires both\u001b[39m\u001b[33m\"\u001b[39m\n\u001b[32m    184\u001b[39m       \u001b[33m\"\u001b[39m\u001b[33m client_id and client_secret in auth_credential.oauth2.\u001b[39m\u001b[33m\"\u001b[39m\n\u001b[32m    185\u001b[39m   )\n\u001b[32m    187\u001b[39m \u001b[38;5;66;03m# Generate new auth URI\u001b[39;00m\n\u001b[32m--> \u001b[39m\u001b[32m188\u001b[39m exchanged_credential = \u001b[38;5;28;43mself\u001b[39;49m\u001b[43m.\u001b[49m\u001b[43mgenerate_auth_uri\u001b[49m\u001b[43m(\u001b[49m\u001b[43m)\u001b[49m\n\u001b[32m    189\u001b[39m \u001b[38;5;28;01mreturn\u001b[39;00m AuthConfig(\n\u001b[32m    190\u001b[39m     auth_scheme=\u001b[38;5;28mself\u001b[39m.auth_config.auth_scheme,\n\u001b[32m    191\u001b[39m     raw_auth_credential=\u001b[38;5;28mself\u001b[39m.auth_config.raw_auth_credential,\n\u001b[32m    192\u001b[39m     exchanged_auth_credential=exchanged_credential,\n\u001b[32m    193\u001b[39m )\n",
      "\u001b[36mFile \u001b[39m\u001b[32m~/Documents/apigee-adk-workshop/.venv/lib/python3.13/site-packages/google/adk/auth/auth_handler.py:257\u001b[39m, in \u001b[36mAuthHandler.generate_auth_uri\u001b[39m\u001b[34m(self)\u001b[39m\n\u001b[32m    237\u001b[39m   authorization_endpoint = (\n\u001b[32m    238\u001b[39m       auth_scheme.flows.implicit\n\u001b[32m    239\u001b[39m       \u001b[38;5;129;01mand\u001b[39;00m auth_scheme.flows.implicit.authorizationUrl\n\u001b[32m   (...)\u001b[39m\u001b[32m    245\u001b[39m       \u001b[38;5;129;01mand\u001b[39;00m auth_scheme.flows.password.tokenUrl\n\u001b[32m    246\u001b[39m   )\n\u001b[32m    247\u001b[39m   scopes = (\n\u001b[32m    248\u001b[39m       auth_scheme.flows.implicit\n\u001b[32m    249\u001b[39m       \u001b[38;5;129;01mand\u001b[39;00m auth_scheme.flows.implicit.scopes\n\u001b[32m   (...)\u001b[39m\u001b[32m    255\u001b[39m       \u001b[38;5;129;01mand\u001b[39;00m auth_scheme.flows.password.scopes\n\u001b[32m    256\u001b[39m   )\n\u001b[32m--> \u001b[39m\u001b[32m257\u001b[39m   scopes = \u001b[38;5;28mlist\u001b[39m(\u001b[43mscopes\u001b[49m\u001b[43m.\u001b[49m\u001b[43mkeys\u001b[49m())\n\u001b[32m    259\u001b[39m client = OAuth2Session(\n\u001b[32m    260\u001b[39m     auth_credential.oauth2.client_id,\n\u001b[32m    261\u001b[39m     auth_credential.oauth2.client_secret,\n\u001b[32m    262\u001b[39m     scope=\u001b[33m\"\u001b[39m\u001b[33m \u001b[39m\u001b[33m\"\u001b[39m.join(scopes),\n\u001b[32m    263\u001b[39m     redirect_uri=auth_credential.oauth2.redirect_uri,\n\u001b[32m    264\u001b[39m )\n\u001b[32m    265\u001b[39m uri, state = client.create_authorization_url(\n\u001b[32m    266\u001b[39m     url=authorization_endpoint, access_type=\u001b[33m\"\u001b[39m\u001b[33moffline\u001b[39m\u001b[33m\"\u001b[39m, prompt=\u001b[33m\"\u001b[39m\u001b[33mconsent\u001b[39m\u001b[33m\"\u001b[39m\n\u001b[32m    267\u001b[39m )\n",
      "\u001b[31mAttributeError\u001b[39m: 'NoneType' object has no attribute 'keys'"
     ]
    }
   ],
   "source": [
    "await async_main()"
   ]
  }
 ],
 "metadata": {
  "kernelspec": {
   "display_name": ".venv",
   "language": "python",
   "name": "python3"
  },
  "language_info": {
   "codemirror_mode": {
    "name": "ipython",
    "version": 3
   },
   "file_extension": ".py",
   "mimetype": "text/x-python",
   "name": "python",
   "nbconvert_exporter": "python",
   "pygments_lexer": "ipython3",
   "version": "3.13.3"
  }
 },
 "nbformat": 4,
 "nbformat_minor": 5
}
