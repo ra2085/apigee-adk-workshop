{
 "cells": [
  {
   "cell_type": "markdown",
   "id": "a06e1de6",
   "metadata": {},
   "source": [
    "## CRM Agent with ADK\n",
    "\n",
    "<table align=\"left\">\n",
    "    <td style=\"text-align: center\">\n",
    "        <a href=\"https://colab.research.google.com/github/ra2085/apigee-adk-workshop/blob/main/notebooks/crm-agent-mcp.ipynb\">\n",
    "          <img src=\"https://cloud.google.com/ml-engine/images/colab-logo-32px.png\" alt=\"Google Colaboratory logo\\\"><br> Open in Colab\n",
    "        </a>\n",
    "      </td>\n",
    "      <td style=\"text-align: center\">\n",
    "        <a href=\"https://console.cloud.google.com/vertex-ai/colab/import/https%3A%2F%2Fraw.githubusercontent.com%2Fra2085%2Fapigee-adk-workshop%2Fmain%2Fnotebooks%2Fcrm-agent-mcp.ipynb\">\n",
    "          <img width=\"32px\" src=\"https://lh3.googleusercontent.com/JmcxdQi-qOpctIvWKgPtrzZdJJK-J3sWE1RsfjZNwshCFgE_9fULcNpuXYTilIR2hjwN\" alt=\"Google Cloud Colab Enterprise logo\"><br> Open in Colab Enterprise\n",
    "        </a>\n",
    "      </td>    \n",
    "      <td style=\"text-align: center\">\n",
    "        <a href=\"https://github.com/ra2085/apigee-adk-workshop/blob/main/notebooks/crm-agent-mcp.ipynb\">\n",
    "          <img src=\"https://cloud.google.com/ml-engine/images/github-logo-32px.png\" alt=\"GitHub logo\"><br> View on GitHub\n",
    "        </a>\n",
    "      </td>\n",
    "</table>\n",
    "<br />\n",
    "<br />\n",
    "<br />\n",
    "<br />"
   ]
  },
  {
   "cell_type": "markdown",
   "id": "09966db3",
   "metadata": {},
   "source": [
    "### Install Dependencies"
   ]
  },
  {
   "cell_type": "code",
   "execution_count": 92,
   "id": "aa9b89f3",
   "metadata": {},
   "outputs": [
    {
     "name": "stdout",
     "output_type": "stream",
     "text": [
      "Note: you may need to restart the kernel to use updated packages.\n",
      "Note: you may need to restart the kernel to use updated packages.\n"
     ]
    }
   ],
   "source": [
    "%pip install google-adk -q\n",
    "%pip install litellm -q"
   ]
  },
  {
   "cell_type": "markdown",
   "id": "816dc380",
   "metadata": {},
   "source": [
    "### Import Dependencies"
   ]
  },
  {
   "cell_type": "code",
   "execution_count": 93,
   "id": "67918b42",
   "metadata": {},
   "outputs": [],
   "source": [
    "import os\n",
    "from google.genai import types\n",
    "from google.adk.agents import Agent\n",
    "from google.adk.runners import Runner\n",
    "from google.adk.sessions import InMemorySessionService\n",
    "from google.adk.artifacts.in_memory_artifact_service import InMemoryArtifactService # Optional\n",
    "from google.adk.tools.mcp_tool.mcp_toolset import MCPToolset, SseServerParams"
   ]
  },
  {
   "cell_type": "markdown",
   "id": "a7cfd34b",
   "metadata": {},
   "source": [
    "### Set Auth"
   ]
  },
  {
   "cell_type": "code",
   "execution_count": null,
   "id": "6eaa8653",
   "metadata": {},
   "outputs": [],
   "source": [
    "#os.environ[\"GOOGLE_API_KEY\"] = \"\" # <--- REPLACE\n",
    "CLOUD_PROJECT = \"GCP_PROJECT_ID\" # @param {type:\"string\"}\n",
    "os.environ[\"GOOGLE_GENAI_USE_VERTEXAI\"]=\"TRUE\"\n",
    "os.environ[\"GOOGLE_CLOUD_PROJECT\"]= CLOUD_PROJECT\n",
    "os.environ[\"GOOGLE_CLOUD_LOCATION\"]=\"us-central1\""
   ]
  },
  {
   "cell_type": "markdown",
   "id": "146793a9",
   "metadata": {},
   "source": [
    "### Get Apigee MCP Tools"
   ]
  },
  {
   "cell_type": "code",
   "execution_count": null,
   "id": "5538ccb9",
   "metadata": {},
   "outputs": [],
   "source": [
    "async def get_customer_tools_async():\n",
    "  \"\"\"Gets tools from the Customer MCP Server.\"\"\"\n",
    "  print(\"Attempting to connect to Customer MCP server...\")\n",
    "  \n",
    "  mcp_base_url = \"https://APIGEE_HOST/crm-mcp-proxy/sse\"  # @param {type:\"string\"}\n",
    "  if not mcp_base_url:\n",
    "    raise ValueError(\"Variable MCP_BASE_URL is not set.\")\n",
    "\n",
    "  client_id = \"CRM_TOOLS_API_KEY\"  # @param {type:\"string\"}\n",
    "\n",
    "  if not client_id:\n",
    "    raise ValueError(\"Environment variable CRM_TOOLS_API_KEY is not set.\")\n",
    "\n",
    "  tools, exit_stack = await MCPToolset.from_server(\n",
    "      connection_params=SseServerParams(\n",
    "          url=mcp_base_url,\n",
    "          headers={\"x-api-key\": client_id},\n",
    "      )\n",
    "  )\n",
    "  print(\"MCP Customer Toolset created successfully.\")\n",
    "  return tools, exit_stack"
   ]
  },
  {
   "cell_type": "markdown",
   "id": "02cc75d8",
   "metadata": {},
   "source": [
    "### Initialize Agent"
   ]
  },
  {
   "cell_type": "code",
   "execution_count": 96,
   "id": "aafb42cd",
   "metadata": {},
   "outputs": [],
   "source": [
    "async def get_customer_agent_async():\n",
    "    \"\"\"Creates a Customer Agent\"\"\"\n",
    "    tools, exit_stack = await get_customer_tools_async()\n",
    "    print(f\"Fetched {len(tools)} customer tools from MCP server.\")\n",
    "    customer_agent = Agent(\n",
    "        model=\"gemini-2.5-pro-preview-05-06\",\n",
    "        name=\"customer_agent\",\n",
    "        description=\"Central authority for all customer account data and related engagement triggers\",\n",
    "        instruction=\"\"\"\n",
    "        - You are responsible for managing customer account data. Your primary function is to use the available tool operations to accurately and securely handle customer information.\n",
    "          - **Manage user profiles:**\n",
    "            - Retrieve comprehensive profile details for a specific customer using their customer ID. This can be used for purposes like pre-filling order forms.\n",
    "          - **Manage customer addresses:**\n",
    "            - Retrieve a list of all saved addresses for a specific customer.\n",
    "            - Retrieve the details of a specific address for a customer.\n",
    "        \"\"\",\n",
    "        tools=tools\n",
    "    )\n",
    "    return customer_agent, exit_stack"
   ]
  },
  {
   "cell_type": "markdown",
   "id": "77c643c1",
   "metadata": {},
   "source": [
    "### Build Agent Runtime"
   ]
  },
  {
   "cell_type": "code",
   "execution_count": 97,
   "id": "8601f3a7",
   "metadata": {},
   "outputs": [],
   "source": [
    "async def async_main():\n",
    "  session_service = InMemorySessionService()\n",
    "  artifacts_service = InMemoryArtifactService()\n",
    "\n",
    "  session = session_service.create_session(\n",
    "      state={}, app_name='crm_app', user_id='user_fs'\n",
    "  )\n",
    "\n",
    "  query = \"get details about customer 1234\"\n",
    "  print(f\"User Query: '{query}'\")\n",
    "  content = types.Content(role='user', parts=[types.Part(text=query)])\n",
    "\n",
    "  root_agent, exit_stack = await get_customer_agent_async()\n",
    "\n",
    "  runner = Runner(\n",
    "      app_name='crm_app',\n",
    "      agent=root_agent,\n",
    "      artifact_service=artifacts_service,\n",
    "      session_service=session_service,\n",
    "  )\n",
    "\n",
    "  print(\"Running agent...\")\n",
    "  events_async = runner.run_async(\n",
    "      session_id=session.id, user_id=session.user_id, new_message=content\n",
    "  )\n",
    "\n",
    "  async for event in events_async:\n",
    "    print(f\"Event received: {event}\")\n",
    "\n",
    "  # Crucial Cleanup: Ensure the MCP server process connection is closed.\n",
    "  print(\"Closing MCP server connection...\")\n",
    "  await exit_stack.aclose()\n",
    "  print(\"Cleanup complete.\")"
   ]
  },
  {
   "cell_type": "markdown",
   "id": "c71a407c",
   "metadata": {},
   "source": [
    "### Execute Agent"
   ]
  },
  {
   "cell_type": "code",
   "execution_count": null,
   "id": "951433d5",
   "metadata": {},
   "outputs": [],
   "source": [
    "await async_main()"
   ]
  }
 ],
 "metadata": {
  "kernelspec": {
   "display_name": ".venv",
   "language": "python",
   "name": "python3"
  },
  "language_info": {
   "codemirror_mode": {
    "name": "ipython",
    "version": 3
   },
   "file_extension": ".py",
   "mimetype": "text/x-python",
   "name": "python",
   "nbconvert_exporter": "python",
   "pygments_lexer": "ipython3",
   "version": "3.13.3"
  }
 },
 "nbformat": 4,
 "nbformat_minor": 5
}
