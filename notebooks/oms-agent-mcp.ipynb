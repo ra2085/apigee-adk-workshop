{
 "cells": [
  {
   "cell_type": "markdown",
   "id": "ee413147",
   "metadata": {},
   "source": [
    "## OMS Agent with ADK\n",
    "\n",
    "<table align=\"left\">\n",
    "    <td style=\"text-align: center\">\n",
    "        <a href=\"https://colab.research.google.com/github/ra2085/apigee-adk-workshop/blob/main/notebooks/oms-agent-mcp.ipynb\">\n",
    "          <img src=\"https://cloud.google.com/ml-engine/images/colab-logo-32px.png\" alt=\"Google Colaboratory logo\\\"><br> Open in Colab\n",
    "        </a>\n",
    "      </td>\n",
    "      <td style=\"text-align: center\">\n",
    "        <a href=\"https://console.cloud.google.com/vertex-ai/colab/import/https%3A%2F%2Fraw.githubusercontent.com%2Fra2085%2Fapigee-adk-workshop%2Fmain%2Fnotebooks%2Foms-agent-mcp.ipynb\">\n",
    "          <img width=\"32px\" src=\"https://lh3.googleusercontent.com/JmcxdQi-qOpctIvWKgPtrzZdJJK-J3sWE1RsfjZNwshCFgE_9fULcNpuXYTilIR2hjwN\" alt=\"Google Cloud Colab Enterprise logo\"><br> Open in Colab Enterprise\n",
    "        </a>\n",
    "      </td>    \n",
    "      <td style=\"text-align: center\">\n",
    "        <a href=\"https://github.com/ra2085/apigee-adk-workshop/blob/main/notebooks/oms-agent-mcp.ipynb\">\n",
    "          <img src=\"https://cloud.google.com/ml-engine/images/github-logo-32px.png\" alt=\"GitHub logo\"><br> View on GitHub\n",
    "        </a>\n",
    "      </td>\n",
    "</table>\n",
    "<br />\n",
    "<br />\n",
    "<br />\n",
    "<br />"
   ]
  },
  {
   "cell_type": "markdown",
   "id": "bfb687cf",
   "metadata": {},
   "source": [
    "### Install Dependencies"
   ]
  },
  {
   "cell_type": "code",
   "execution_count": null,
   "id": "b646fb45",
   "metadata": {},
   "outputs": [
    {
     "name": "stdout",
     "output_type": "stream",
     "text": [
      "Note: you may need to restart the kernel to use updated packages.\n",
      "Note: you may need to restart the kernel to use updated packages.\n"
     ]
    }
   ],
   "source": [
    "%pip install google-adk==1.0.0 -q\n",
    "%pip install litellm -q"
   ]
  },
  {
   "cell_type": "markdown",
   "id": "b33055a4",
   "metadata": {},
   "source": [
    "### Import Dependencies"
   ]
  },
  {
   "cell_type": "code",
   "execution_count": null,
   "id": "046da03f",
   "metadata": {},
   "outputs": [],
   "source": [
    "import os\n",
    "import sys\n",
    "from google.genai import types\n",
    "from google.adk.agents import Agent\n",
    "from google.adk.runners import Runner\n",
    "from google.adk.sessions import InMemorySessionService\n",
    "from google.adk.artifacts.in_memory_artifact_service import InMemoryArtifactService # Optional\n",
    "from google.adk.tools.mcp_tool.mcp_toolset import MCPToolset, SseServerParams"
   ]
  },
  {
   "cell_type": "markdown",
   "id": "0377d473",
   "metadata": {},
   "source": [
    "### Set Auth"
   ]
  },
  {
   "cell_type": "code",
   "execution_count": null,
   "id": "4e2b8fb8",
   "metadata": {},
   "outputs": [],
   "source": [
    "CLOUD_PROJECT = \"GCP_PROJECT_ID\" # @param {type:\"string\"}\n",
    "os.environ[\"GOOGLE_GENAI_USE_VERTEXAI\"]=\"TRUE\"\n",
    "os.environ[\"GOOGLE_CLOUD_PROJECT\"]= CLOUD_PROJECT\n",
    "os.environ[\"GOOGLE_CLOUD_LOCATION\"]=\"us-central1\"\n",
    "\n",
    "if \"google.colab\" in sys.modules:\n",
    "    from google.colab import auth\n",
    "    auth.authenticate_user()"
   ]
  },
  {
   "cell_type": "markdown",
   "id": "bc425464",
   "metadata": {},
   "source": [
    "### Get Apigee MCP Tools"
   ]
  },
  {
   "cell_type": "code",
   "execution_count": null,
   "id": "7137862e",
   "metadata": {},
   "outputs": [],
   "source": [
    "def get_oms_tools():\n",
    "  \"\"\"Gets tools from the OMS MCP Server.\"\"\"\n",
    "  print(\"Attempting to connect to OMS MCP server...\")\n",
    "\n",
    "  mcp_base_url = f\"https://api-{CLOUD_PROJECT}.apiservices.dev/oms-mcp-proxy/sse\"\n",
    "  if not mcp_base_url:\n",
    "    raise ValueError(\"Variable MCP_BASE_URL is not set.\")\n",
    "\n",
    "  client_id = \"OMS_TOOLS_API_KEY\"  # @param {type:\"string\"}\n",
    "\n",
    "  if not client_id:\n",
    "    raise ValueError(\"Environment variable OMS_TOOLS_API_KEY is not set.\")\n",
    "\n",
    "  tools = MCPToolset(\n",
    "      connection_params=SseServerParams(\n",
    "          url=mcp_base_url,\n",
    "          headers={\"x-api-key\": client_id},\n",
    "      )\n",
    "  )\n",
    "  print(\"MCP Customer Toolset created successfully.\")\n",
    "  return tools"
   ]
  },
  {
   "cell_type": "markdown",
   "id": "4a4d1aac",
   "metadata": {},
   "source": [
    "### Initialize Agent"
   ]
  },
  {
   "cell_type": "code",
   "execution_count": null,
   "id": "1400624c",
   "metadata": {},
   "outputs": [],
   "source": [
    "def get_oms_agent():\n",
    "    \"\"\"Creates a OMS Agent\"\"\"\n",
    "    tools = get_oms_tools()\n",
    "    print(f\"Fetched {len(tools)} OMS tools from MCP server.\")\n",
    "    customer_agent = Agent(\n",
    "        model=\"gemini-2.5-pro-preview-05-06\",\n",
    "        name=\"customer_agent\",\n",
    "        description=\"Central authority for all Customer Orders\",\n",
    "        instruction=\"\"\"\n",
    "        - You are the central authority for managing the critical interface between sales and backend fulfillment systems. Your primary responsibilities include the accurate submission of new sales orders into the Order Management System (OMS) or Enterprise Resource Planning (ERP) system, and providing real-time intelligence on product availability and inventory levels. You also handle all necessary data for order creation—including customer details, ordered items, quantities, pricing, and shipping/billing addresses—while also querying product information and continuously monitoring stock to inform both pre-sales availability checks and post-order fulfillment possibilities. You also act as a crucial liaison, ensuring that orders are valid, complete, and can be fulfilled based on current or incoming inventory.\n",
    "        - Use the tools at your disposal to:\n",
    "            - submit a new sales order into the Order Management System (OMS) or ERP handle customer details, ordered items, quantities, pricing, and shipping/billing addresses\n",
    "            - query product information and pricing determine if there's any existing stock/incoming stock that could fulfill a purchase provides real-time inventory stock level checks\n",
    "            - query stock availability of specific items before or after an order is placed in the OMS\n",
    "            - Provide order details to the WMS for order fulfilment\n",
    "        \"\"\",\n",
    "        tools=[tools]\n",
    "    )\n",
    "    return customer_agent"
   ]
  },
  {
   "cell_type": "markdown",
   "id": "32f1f7b2",
   "metadata": {},
   "source": [
    "### Build Agent Runtime"
   ]
  },
  {
   "cell_type": "code",
   "execution_count": null,
   "id": "c3abbb5d",
   "metadata": {},
   "outputs": [],
   "source": [
    "APP_NAME=\"oms_app\"\n",
    "USER_ID=\"user_fs\"\n",
    "SESSION_ID=\"user_session\"\n",
    "async def async_main():\n",
    "  session_service = InMemorySessionService()\n",
    "  artifacts_service = InMemoryArtifactService()\n",
    "\n",
    "  session = session_service.create_session(\n",
    "      app_name=APP_NAME, user_id=USER_ID, session_id=SESSION_ID\n",
    "  )\n",
    "\n",
    "  query = \"What's the stock availability for product P002?\"\n",
    "  print(f\"User Query: '{query}'\")\n",
    "  content = types.Content(role='user', parts=[types.Part(text=query)])\n",
    "\n",
    "  root_agent = get_oms_agent()\n",
    "\n",
    "  runner = Runner(\n",
    "      app_name='oms_app',\n",
    "      agent=root_agent,\n",
    "      artifact_service=artifacts_service,\n",
    "      session_service=session_service,\n",
    "  )\n",
    "\n",
    "  print(\"Running agent...\")\n",
    "  events_async = runner.run_async(\n",
    "      session_id=session.id, user_id=session.user_id, new_message=content\n",
    "  )\n",
    "\n",
    "  async for event in events_async:\n",
    "    print(f\"Event received: {event}\")\n",
    "\n",
    "  print(\"Cleanup complete.\")"
   ]
  },
  {
   "cell_type": "markdown",
   "id": "ad4c31fd",
   "metadata": {},
   "source": [
    "### Execute Agent"
   ]
  },
  {
   "cell_type": "code",
   "execution_count": null,
   "id": "5b2863d2",
   "metadata": {},
   "outputs": [],
   "source": [
    "await async_main()"
   ]
  }
 ],
 "metadata": {
  "kernelspec": {
   "display_name": ".venv",
   "language": "python",
   "name": "python3"
  },
  "language_info": {
   "codemirror_mode": {
    "name": "ipython",
    "version": 3
   },
   "file_extension": ".py",
   "mimetype": "text/x-python",
   "name": "python",
   "nbconvert_exporter": "python",
   "pygments_lexer": "ipython3",
   "version": "3.13.3"
  }
 },
 "nbformat": 4,
 "nbformat_minor": 5
}
