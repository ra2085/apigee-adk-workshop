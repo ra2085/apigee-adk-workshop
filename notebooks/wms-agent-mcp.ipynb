{
 "cells": [
  {
   "cell_type": "markdown",
   "id": "d40e80c6",
   "metadata": {},
   "source": [
    "## WMS Agent with ADK\n",
    "\n",
    "<table align=\"left\">\n",
    "    <td style=\"text-align: center\">\n",
    "        <a href=\"https://colab.research.google.com/github/ra2085/apigee-adk-workshop/blob/main/notebooks/wms-agent-mcp.ipynb\">\n",
    "          <img src=\"https://cloud.google.com/ml-engine/images/colab-logo-32px.png\" alt=\"Google Colaboratory logo\\\"><br> Open in Colab\n",
    "        </a>\n",
    "      </td>\n",
    "      <td style=\"text-align: center\">\n",
    "        <a href=\"https://console.cloud.google.com/vertex-ai/colab/import/https%3A%2F%2Fraw.githubusercontent.com%2Fra2085%2Fapigee-adk-workshop%2Fmain%2Fnotebooks%2Fwms-agent-mcp.ipynb\">\n",
    "          <img width=\"32px\" src=\"https://lh3.googleusercontent.com/JmcxdQi-qOpctIvWKgPtrzZdJJK-J3sWE1RsfjZNwshCFgE_9fULcNpuXYTilIR2hjwN\" alt=\"Google Cloud Colab Enterprise logo\"><br> Open in Colab Enterprise\n",
    "        </a>\n",
    "      </td>    \n",
    "      <td style=\"text-align: center\">\n",
    "        <a href=\"https://github.com/ra2085/apigee-adk-workshop/blob/main/notebooks/wms-agent-mcp.ipynb\">\n",
    "          <img src=\"https://cloud.google.com/ml-engine/images/github-logo-32px.png\" alt=\"GitHub logo\"><br> View on GitHub\n",
    "        </a>\n",
    "      </td>\n",
    "</table>\n",
    "<br />\n",
    "<br />\n",
    "<br />\n",
    "<br />"
   ]
  },
  {
   "cell_type": "markdown",
   "id": "7237b4a6",
   "metadata": {},
   "source": [
    "### Install Dependencies"
   ]
  },
  {
   "cell_type": "code",
   "execution_count": null,
   "id": "8f06d1c8",
   "metadata": {},
   "outputs": [
    {
     "name": "stdout",
     "output_type": "stream",
     "text": [
      "Note: you may need to restart the kernel to use updated packages.\n",
      "Note: you may need to restart the kernel to use updated packages.\n"
     ]
    }
   ],
   "source": [
    "%pip install google-adk==1.0.0 -q\n",
    "%pip install litellm -q"
   ]
  },
  {
   "cell_type": "markdown",
   "id": "fb47230a",
   "metadata": {},
   "source": [
    "### Import Dependencies"
   ]
  },
  {
   "cell_type": "code",
   "execution_count": null,
   "id": "1b3de8d2",
   "metadata": {},
   "outputs": [],
   "source": [
    "import os\n",
    "import sys\n",
    "from google.genai import types\n",
    "from google.adk.agents import Agent\n",
    "from google.adk.runners import Runner\n",
    "from google.adk.sessions import InMemorySessionService\n",
    "from google.adk.artifacts.in_memory_artifact_service import InMemoryArtifactService # Optional\n",
    "from google.adk.tools.mcp_tool.mcp_toolset import MCPToolset, SseServerParams"
   ]
  },
  {
   "cell_type": "markdown",
   "id": "8df6922e",
   "metadata": {},
   "source": [
    "### Set Auth"
   ]
  },
  {
   "cell_type": "code",
   "execution_count": null,
   "id": "08c5952f",
   "metadata": {},
   "outputs": [],
   "source": [
    "CLOUD_PROJECT = \"GCP_PROJECT_ID\" # @param {type:\"string\"}\n",
    "os.environ[\"GOOGLE_GENAI_USE_VERTEXAI\"]=\"TRUE\"\n",
    "os.environ[\"GOOGLE_CLOUD_PROJECT\"]= CLOUD_PROJECT\n",
    "os.environ[\"GOOGLE_CLOUD_LOCATION\"]=\"us-central1\"\n",
    "\n",
    "if \"google.colab\" in sys.modules:\n",
    "    from google.colab import auth\n",
    "    auth.authenticate_user()"
   ]
  },
  {
   "cell_type": "markdown",
   "id": "4ec7fddc",
   "metadata": {},
   "source": [
    "### Get Apigee MCP Tools"
   ]
  },
  {
   "cell_type": "code",
   "execution_count": null,
   "id": "456157e0",
   "metadata": {},
   "outputs": [],
   "source": [
    "def get_wms_tools():\n",
    "  \"\"\"Gets tools from the OMS MCP Server.\"\"\"\n",
    "  print(\"Attempting to connect to WMS MCP server...\")\n",
    "  \n",
    "  mcp_base_url = f\"https://api-{CLOUD_PROJECT}.apiservices.dev/wms-mcp-proxy/sse\"\n",
    "  if not mcp_base_url:\n",
    "    raise ValueError(\"Variable MCP_BASE_URL is not set.\")\n",
    "\n",
    "  client_id = \"OMS_TOOLS_API_KEY\"  # @param {type:\"string\"}\n",
    "\n",
    "  if not client_id:\n",
    "    raise ValueError(\"Environment variable OMS_TOOLS_API_KEY is not set.\")\n",
    "\n",
    "  tools = MCPToolset(\n",
    "      connection_params=SseServerParams(\n",
    "          url=mcp_base_url,\n",
    "          headers={\"x-api-key\": client_id},\n",
    "      )\n",
    "  )\n",
    "  print(\"MCP Customer Toolset created successfully.\")\n",
    "  return tools"
   ]
  },
  {
   "cell_type": "markdown",
   "id": "da997772",
   "metadata": {},
   "source": [
    "### Initialize Agent"
   ]
  },
  {
   "cell_type": "code",
   "execution_count": null,
   "id": "e18a2b86",
   "metadata": {},
   "outputs": [],
   "source": [
    "def get_wms_agent():\n",
    "    \"\"\"Creates a Customer Agent\"\"\"\n",
    "    tools = get_wms_tools()\n",
    "    print(f\"Fetched {len(tools)} WMS tools from MCP server.\")\n",
    "    customer_agent = Agent(\n",
    "        model=\"gemini-2.5-pro-preview-05-06\",\n",
    "        name=\"customer_agent\",\n",
    "        description=\"Central authority for all warehouse and fulfillment matters\",\n",
    "        instruction=\"\"\"\n",
    "        - You are esponsible for managing and executing the physical fulfillment process once an order is released by the Order Management System (OMS). You act as the central nervous system for warehouse operations, taking new order details and orchestrating the picking, packing, and shipping stages. You ensure a seamless flow of information by updating the OMS with real-time order status changes (e.g., 'Awaiting Fulfillment', 'Picking', 'Packed', 'Shipped') and by directly interfacing with shipping carrier systems to generate labels, schedule pickups, and retrieve tracking information. Your primary objective is to ensure orders are processed accurately, efficiently, and are dispatched to customers in a timely manner.\n",
    "        - Use the tools at your disposal to:\n",
    "            - Create new orders in the warehouse management system (WMS) based on order details from the OMS agent\n",
    "            - Receive new order details from the OMS agent for picking and packing Updating order status back to the WMS (e.g., 'Awaiting Fulfillment', 'Picking', 'Packed') \n",
    "            - Faciliate shipping operations, including generating shipping labels, scheduling pickups, and retrieving tracking information\n",
    "        \"\"\",\n",
    "        tools=[tools]\n",
    "    )\n",
    "    return customer_agent"
   ]
  },
  {
   "cell_type": "markdown",
   "id": "67e23575",
   "metadata": {},
   "source": [
    "### Build Agent Runtime"
   ]
  },
  {
   "cell_type": "code",
   "execution_count": null,
   "id": "170740d7",
   "metadata": {},
   "outputs": [],
   "source": [
    "APP_NAME=\"wms_app\"\n",
    "USER_ID=\"user_fs\"\n",
    "SESSION_ID=\"user_session\"\n",
    "async def async_main():\n",
    "  session_service = InMemorySessionService()\n",
    "  artifacts_service = InMemoryArtifactService()\n",
    "\n",
    "  session = session_service.create_session(\n",
    "      app_name=APP_NAME, user_id=USER_ID, session_id=SESSION_ID\n",
    "  )\n",
    "\n",
    "  query = \"Can you generate a shipping label?\"\n",
    "  print(f\"User Query: '{query}'\")\n",
    "  content = types.Content(role='user', parts=[types.Part(text=query)])\n",
    "\n",
    "  root_agent = get_wms_agent()\n",
    "\n",
    "  runner = Runner(\n",
    "      app_name='wms_app',\n",
    "      agent=root_agent,\n",
    "      artifact_service=artifacts_service,\n",
    "      session_service=session_service,\n",
    "  )\n",
    "\n",
    "  print(\"Running agent...\")\n",
    "  events_async = runner.run_async(\n",
    "      session_id=session.id, user_id=session.user_id, new_message=content\n",
    "  )\n",
    "\n",
    "  async for event in events_async:\n",
    "    print(f\"Event received: {event}\")\n",
    "\n",
    "  print(\"Cleanup complete.\")"
   ]
  },
  {
   "cell_type": "markdown",
   "id": "25d6848b",
   "metadata": {},
   "source": [
    "### Execute Agent"
   ]
  },
  {
   "cell_type": "code",
   "execution_count": null,
   "id": "3e3abdcb",
   "metadata": {},
   "outputs": [],
   "source": [
    "await async_main()"
   ]
  }
 ],
 "metadata": {
  "kernelspec": {
   "display_name": ".venv",
   "language": "python",
   "name": "python3"
  },
  "language_info": {
   "codemirror_mode": {
    "name": "ipython",
    "version": 3
   },
   "file_extension": ".py",
   "mimetype": "text/x-python",
   "name": "python",
   "nbconvert_exporter": "python",
   "pygments_lexer": "ipython3",
   "version": "3.13.3"
  }
 },
 "nbformat": 4,
 "nbformat_minor": 5
}
