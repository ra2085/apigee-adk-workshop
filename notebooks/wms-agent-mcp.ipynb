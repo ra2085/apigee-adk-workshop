{
 "cells": [
  {
   "cell_type": "markdown",
   "id": "d40e80c6",
   "metadata": {},
   "source": [
    "## WMS Agent with ADK\n",
    "\n",
    "<table align=\"left\">\n",
    "    <td style=\"text-align: center\">\n",
    "        <a href=\"https://colab.research.google.com/github/ra2085/apigee-adk-workshop/blob/main/notebooks/wms-agent-mcp.ipynb\">\n",
    "          <img src=\"https://cloud.google.com/ml-engine/images/colab-logo-32px.png\" alt=\"Google Colaboratory logo\\\"><br> Open in Colab\n",
    "        </a>\n",
    "      </td>\n",
    "      <td style=\"text-align: center\">\n",
    "        <a href=\"https://console.cloud.google.com/vertex-ai/colab/import/https%3A%2F%2Fraw.githubusercontent.com%2Fra2085%2Fapigee-adk-workshop%2Fmain%2Fnotebooks%2Fwms-agent-mcp.ipynb\">\n",
    "          <img width=\"32px\" src=\"https://lh3.googleusercontent.com/JmcxdQi-qOpctIvWKgPtrzZdJJK-J3sWE1RsfjZNwshCFgE_9fULcNpuXYTilIR2hjwN\" alt=\"Google Cloud Colab Enterprise logo\"><br> Open in Colab Enterprise\n",
    "        </a>\n",
    "      </td>    \n",
    "      <td style=\"text-align: center\">\n",
    "        <a href=\"https://github.com/ra2085/apigee-adk-workshop/blob/main/notebooks/wms-agent-mcp.ipynb\">\n",
    "          <img src=\"https://cloud.google.com/ml-engine/images/github-logo-32px.png\" alt=\"GitHub logo\"><br> View on GitHub\n",
    "        </a>\n",
    "      </td>\n",
    "</table>\n",
    "<br />\n",
    "<br />\n",
    "<br />\n",
    "<br />"
   ]
  },
  {
   "cell_type": "markdown",
   "id": "7237b4a6",
   "metadata": {},
   "source": [
    "### Install Dependencies"
   ]
  },
  {
   "cell_type": "code",
   "execution_count": 8,
   "id": "8f06d1c8",
   "metadata": {},
   "outputs": [
    {
     "name": "stdout",
     "output_type": "stream",
     "text": [
      "Note: you may need to restart the kernel to use updated packages.\n",
      "Note: you may need to restart the kernel to use updated packages.\n"
     ]
    }
   ],
   "source": [
    "%pip install google-adk -q\n",
    "%pip install litellm -q"
   ]
  },
  {
   "cell_type": "markdown",
   "id": "fb47230a",
   "metadata": {},
   "source": [
    "### Import Dependencies"
   ]
  },
  {
   "cell_type": "code",
   "execution_count": 9,
   "id": "1b3de8d2",
   "metadata": {},
   "outputs": [],
   "source": [
    "import os\n",
    "from google.genai import types\n",
    "from google.adk.agents import Agent\n",
    "from google.adk.runners import Runner\n",
    "from google.adk.sessions import InMemorySessionService\n",
    "from google.adk.artifacts.in_memory_artifact_service import InMemoryArtifactService # Optional\n",
    "from google.adk.tools.mcp_tool.mcp_toolset import MCPToolset, SseServerParams"
   ]
  },
  {
   "cell_type": "markdown",
   "id": "8df6922e",
   "metadata": {},
   "source": [
    "### Set Auth"
   ]
  },
  {
   "cell_type": "code",
   "execution_count": 10,
   "id": "08c5952f",
   "metadata": {},
   "outputs": [],
   "source": [
    "#os.environ[\"GOOGLE_API_KEY\"] = \"\" # <--- REPLACE\n",
    "CLOUD_PROJECT = \"cymbal-ai\" # @param {type:\"string\"}\n",
    "os.environ[\"GOOGLE_GENAI_USE_VERTEXAI\"]=\"TRUE\"\n",
    "os.environ[\"GOOGLE_CLOUD_PROJECT\"]= CLOUD_PROJECT\n",
    "os.environ[\"GOOGLE_CLOUD_LOCATION\"]=\"us-central1\""
   ]
  },
  {
   "cell_type": "markdown",
   "id": "4ec7fddc",
   "metadata": {},
   "source": [
    "### Get Apigee MCP Tools"
   ]
  },
  {
   "cell_type": "code",
   "execution_count": 11,
   "id": "456157e0",
   "metadata": {},
   "outputs": [],
   "source": [
    "async def get_wms_tools_async():\n",
    "  \"\"\"Gets tools from the OMS MCP Server.\"\"\"\n",
    "  print(\"Attempting to connect to WMS MCP server...\")\n",
    "  \n",
    "  mcp_base_url = \"https://34.107.220.83.nip.io/wms-mcp-proxy/sse\"  # @param {type:\"string\"}\n",
    "  if not mcp_base_url:\n",
    "    raise ValueError(\"Variable MCP_BASE_URL is not set.\")\n",
    "\n",
    "  client_id = \"Kcf6MeXh6WaLIqPTAEDRljLGZakVm81OL1ohsmt81u6HoXpb\"  # @param {type:\"string\"}\n",
    "\n",
    "  if not client_id:\n",
    "    raise ValueError(\"Environment variable OMS_TOOLS_API_KEY is not set.\")\n",
    "\n",
    "  tools, exit_stack = await MCPToolset.from_server(\n",
    "      connection_params=SseServerParams(\n",
    "          url=mcp_base_url,\n",
    "          headers={\"x-api-key\": client_id},\n",
    "      )\n",
    "  )\n",
    "  print(\"MCP Customer Toolset created successfully.\")\n",
    "  return tools, exit_stack"
   ]
  },
  {
   "cell_type": "markdown",
   "id": "da997772",
   "metadata": {},
   "source": [
    "### Initialize Agent"
   ]
  },
  {
   "cell_type": "code",
   "execution_count": 12,
   "id": "e18a2b86",
   "metadata": {},
   "outputs": [],
   "source": [
    "async def get_wms_agent_async():\n",
    "    \"\"\"Creates a Customer Agent\"\"\"\n",
    "    tools, exit_stack = await get_wms_tools_async()\n",
    "    print(f\"Fetched {len(tools)} WMS tools from MCP server.\")\n",
    "    customer_agent = Agent(\n",
    "        model=\"gemini-2.5-pro-preview-05-06\",\n",
    "        name=\"customer_agent\",\n",
    "        description=\"Central authority for all warehouse and fulfillment matters\",\n",
    "        instruction=\"\"\"\n",
    "        - You are esponsible for managing and executing the physical fulfillment process once an order is released by the Order Management System (OMS). You act as the central nervous system for warehouse operations, taking new order details and orchestrating the picking, packing, and shipping stages. You ensure a seamless flow of information by updating the OMS with real-time order status changes (e.g., 'Awaiting Fulfillment', 'Picking', 'Packed', 'Shipped') and by directly interfacing with shipping carrier systems to generate labels, schedule pickups, and retrieve tracking information. Your primary objective is to ensure orders are processed accurately, efficiently, and are dispatched to customers in a timely manner.\n",
    "        - Use the tools at your disposal to:\n",
    "            - Create new orders in the warehouse management system (WMS) based on order details from the OMS agent\n",
    "            - Receive new order details from the OMS agent for picking and packing Updating order status back to the WMS (e.g., 'Awaiting Fulfillment', 'Picking', 'Packed') \n",
    "            - Faciliate shipping operations, including generating shipping labels, scheduling pickups, and retrieving tracking information\n",
    "        \"\"\",\n",
    "        tools=tools\n",
    "    )\n",
    "    return customer_agent, exit_stack"
   ]
  },
  {
   "cell_type": "markdown",
   "id": "67e23575",
   "metadata": {},
   "source": [
    "### Build Agent Runtime"
   ]
  },
  {
   "cell_type": "code",
   "execution_count": 13,
   "id": "170740d7",
   "metadata": {},
   "outputs": [],
   "source": [
    "async def async_main():\n",
    "  session_service = InMemorySessionService()\n",
    "  artifacts_service = InMemoryArtifactService()\n",
    "\n",
    "  session = session_service.create_session(\n",
    "      state={}, app_name='wms_app', user_id='user_fs'\n",
    "  )\n",
    "\n",
    "  query = \"Can you generate a shipping label?\"\n",
    "  print(f\"User Query: '{query}'\")\n",
    "  content = types.Content(role='user', parts=[types.Part(text=query)])\n",
    "\n",
    "  root_agent, exit_stack = await get_wms_agent_async()\n",
    "\n",
    "  runner = Runner(\n",
    "      app_name='wms_app',\n",
    "      agent=root_agent,\n",
    "      artifact_service=artifacts_service,\n",
    "      session_service=session_service,\n",
    "  )\n",
    "\n",
    "  print(\"Running agent...\")\n",
    "  events_async = runner.run_async(\n",
    "      session_id=session.id, user_id=session.user_id, new_message=content\n",
    "  )\n",
    "\n",
    "  async for event in events_async:\n",
    "    print(f\"Event received: {event}\")\n",
    "\n",
    "  # Crucial Cleanup: Ensure the MCP server process connection is closed.\n",
    "  print(\"Closing MCP server connection...\")\n",
    "  await exit_stack.aclose()\n",
    "  print(\"Cleanup complete.\")"
   ]
  },
  {
   "cell_type": "markdown",
   "id": "25d6848b",
   "metadata": {},
   "source": [
    "### Execute Agent"
   ]
  },
  {
   "cell_type": "code",
   "execution_count": 14,
   "id": "3e3abdcb",
   "metadata": {},
   "outputs": [
    {
     "name": "stdout",
     "output_type": "stream",
     "text": [
      "User Query: 'Can you generate a shipping label?'\n",
      "Attempting to connect to WMS MCP server...\n"
     ]
    },
    {
     "name": "stderr",
     "output_type": "stream",
     "text": [
      "  + Exception Group Traceback (most recent call last):\n",
      "  |   File \"/Users/gonzalezruben/Documents/apigee-adk-workshop/.venv/lib/python3.13/site-packages/IPython/core/interactiveshell.py\", line 3668, in run_code\n",
      "  |     await eval(code_obj, self.user_global_ns, self.user_ns)\n",
      "  |   File \"/var/folders/nx/fvpj4ftj0qg1pn5dnjrm2q4h00jrr5/T/ipykernel_64512/2229161767.py\", line 1, in <module>\n",
      "  |     await async_main()\n",
      "  |   File \"/var/folders/nx/fvpj4ftj0qg1pn5dnjrm2q4h00jrr5/T/ipykernel_64512/438978371.py\", line 13, in async_main\n",
      "  |     root_agent, exit_stack = await get_wms_agent_async()\n",
      "  |                              ^^^^^^^^^^^^^^^^^^^^^^^^^^^\n",
      "  |   File \"/var/folders/nx/fvpj4ftj0qg1pn5dnjrm2q4h00jrr5/T/ipykernel_64512/2732294698.py\", line 3, in get_wms_agent_async\n",
      "  |     tools, exit_stack = await get_wms_tools_async()\n",
      "  |                         ^^^^^^^^^^^^^^^^^^^^^^^^^^^\n",
      "  |   File \"/var/folders/nx/fvpj4ftj0qg1pn5dnjrm2q4h00jrr5/T/ipykernel_64512/3836312361.py\", line 14, in get_wms_tools_async\n",
      "  |     tools, exit_stack = await MCPToolset.from_server(\n",
      "  |                         ^^^^^^^^^^^^^^^^^^^^^^^^^^^^^\n",
      "  |     ...<4 lines>...\n",
      "  |     )\n",
      "  |     ^\n",
      "  |   File \"/Users/gonzalezruben/Documents/apigee-adk-workshop/.venv/lib/python3.13/site-packages/google/adk/tools/mcp_tool/mcp_toolset.py\", line 223, in from_server\n",
      "  |     await async_exit_stack.enter_async_context(toolset)\n",
      "  |   File \"/opt/homebrew/Cellar/python@3.13/3.13.3/Frameworks/Python.framework/Versions/3.13/lib/python3.13/contextlib.py\", line 668, in enter_async_context\n",
      "  |     result = await _enter(cm)\n",
      "  |              ^^^^^^^^^^^^^^^^\n",
      "  |   File \"/Users/gonzalezruben/Documents/apigee-adk-workshop/.venv/lib/python3.13/site-packages/google/adk/tools/mcp_tool/mcp_toolset.py\", line 258, in __aenter__\n",
      "  |     raise e\n",
      "  |   File \"/Users/gonzalezruben/Documents/apigee-adk-workshop/.venv/lib/python3.13/site-packages/google/adk/tools/mcp_tool/mcp_toolset.py\", line 255, in __aenter__\n",
      "  |     await self._initialize()\n",
      "  |   File \"/Users/gonzalezruben/Documents/apigee-adk-workshop/.venv/lib/python3.13/site-packages/google/adk/tools/mcp_tool/mcp_toolset.py\", line 229, in _initialize\n",
      "  |     self.session = await self.session_manager.create_session()\n",
      "  |                    ^^^^^^^^^^^^^^^^^^^^^^^^^^^^^^^^^^^^^^^^^^^\n",
      "  |   File \"/Users/gonzalezruben/Documents/apigee-adk-workshop/.venv/lib/python3.13/site-packages/google/adk/tools/mcp_tool/mcp_session_manager.py\", line 146, in create_session\n",
      "  |     return await MCPSessionManager.initialize_session(\n",
      "  |            ^^^^^^^^^^^^^^^^^^^^^^^^^^^^^^^^^^^^^^^^^^^\n",
      "  |     ...<3 lines>...\n",
      "  |     )\n",
      "  |     ^\n",
      "  |   File \"/Users/gonzalezruben/Documents/apigee-adk-workshop/.venv/lib/python3.13/site-packages/google/adk/tools/mcp_tool/mcp_session_manager.py\", line 187, in initialize_session\n",
      "  |     transports = await exit_stack.enter_async_context(client)\n",
      "  |                  ^^^^^^^^^^^^^^^^^^^^^^^^^^^^^^^^^^^^^^^^^^^^\n",
      "  |   File \"/opt/homebrew/Cellar/python@3.13/3.13.3/Frameworks/Python.framework/Versions/3.13/lib/python3.13/contextlib.py\", line 668, in enter_async_context\n",
      "  |     result = await _enter(cm)\n",
      "  |              ^^^^^^^^^^^^^^^^\n",
      "  |   File \"/opt/homebrew/Cellar/python@3.13/3.13.3/Frameworks/Python.framework/Versions/3.13/lib/python3.13/contextlib.py\", line 214, in __aenter__\n",
      "  |     return await anext(self.gen)\n",
      "  |            ^^^^^^^^^^^^^^^^^^^^^\n",
      "  |   File \"/Users/gonzalezruben/Documents/apigee-adk-workshop/.venv/lib/python3.13/site-packages/mcp/client/sse.py\", line 45, in sse_client\n",
      "  |     async with anyio.create_task_group() as tg:\n",
      "  |                ~~~~~~~~~~~~~~~~~~~~~~~^^\n",
      "  |   File \"/Users/gonzalezruben/Documents/apigee-adk-workshop/.venv/lib/python3.13/site-packages/anyio/_backends/_asyncio.py\", line 772, in __aexit__\n",
      "  |     raise BaseExceptionGroup(\n",
      "  |         \"unhandled errors in a TaskGroup\", self._exceptions\n",
      "  |     ) from None\n",
      "  | ExceptionGroup: unhandled errors in a TaskGroup (1 sub-exception)\n",
      "  +-+---------------- 1 ----------------\n",
      "    | Traceback (most recent call last):\n",
      "    |   File \"/Users/gonzalezruben/Documents/apigee-adk-workshop/.venv/lib/python3.13/site-packages/mcp/client/sse.py\", line 55, in sse_client\n",
      "    |     event_source.response.raise_for_status()\n",
      "    |     ~~~~~~~~~~~~~~~~~~~~~~~~~~~~~~~~~~~~~~^^\n",
      "    |   File \"/Users/gonzalezruben/Documents/apigee-adk-workshop/.venv/lib/python3.13/site-packages/httpx/_models.py\", line 829, in raise_for_status\n",
      "    |     raise HTTPStatusError(message, request=request, response=self)\n",
      "    | httpx.HTTPStatusError: Client error '404 Not Found' for url 'https://34.107.220.83.nip.io/wms-mcp-proxy/sse'\n",
      "    | For more information check: https://developer.mozilla.org/en-US/docs/Web/HTTP/Status/404\n",
      "    +------------------------------------\n"
     ]
    }
   ],
   "source": [
    "await async_main()"
   ]
  }
 ],
 "metadata": {
  "kernelspec": {
   "display_name": ".venv",
   "language": "python",
   "name": "python3"
  },
  "language_info": {
   "codemirror_mode": {
    "name": "ipython",
    "version": 3
   },
   "file_extension": ".py",
   "mimetype": "text/x-python",
   "name": "python",
   "nbconvert_exporter": "python",
   "pygments_lexer": "ipython3",
   "version": "3.13.3"
  }
 },
 "nbformat": 4,
 "nbformat_minor": 5
}
