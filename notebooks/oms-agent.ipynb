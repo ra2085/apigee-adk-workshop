{
 "cells": [
  {
   "cell_type": "markdown",
   "id": "ee413147",
   "metadata": {},
   "source": [
    "## OMS Agent with ADK\n",
    "https://github.com/ra2085/apigee-adk-workshop.git\n",
    "<table align=\"left\">\n",
    "    <td style=\"text-align: center\">\n",
    "        <a href=\"https://colab.research.google.com/github/ra2085/apigee-adk-workshop/blob/main/notebooks/oms-agent.ipynb\">\n",
    "          <img src=\"https://cloud.google.com/ml-engine/images/colab-logo-32px.png\" alt=\"Google Colaboratory logo\\\"><br> Open in Colab\n",
    "        </a>\n",
    "      </td>\n",
    "      <td style=\"text-align: center\">\n",
    "        <a href=\"https://console.cloud.google.com/vertex-ai/colab/import/https%3A%2F%2Fraw.githubusercontent.com%2Fra2085%2Fapigee-adk-workshop%2Fmain%2Fnotebooks%2Foms-agent.ipynb\">\n",
    "          <img width=\"32px\" src=\"https://lh3.googleusercontent.com/JmcxdQi-qOpctIvWKgPtrzZdJJK-J3sWE1RsfjZNwshCFgE_9fULcNpuXYTilIR2hjwN\" alt=\"Google Cloud Colab Enterprise logo\"><br> Open in Colab Enterprise\n",
    "        </a>\n",
    "      </td>    \n",
    "      <td style=\"text-align: center\">\n",
    "        <a href=\"https://console.cloud.google.com/vertex-ai/workbench/deploy-notebook?download_url=https://raw.githubusercontent.com/ra2085/apigee-adk-workshop/main/notebooks/oms-agent.ipynb\">\n",
    "          <img src=\"https://lh3.googleusercontent.com/UiNooY4LUgW_oTvpsNhPpQzsstV5W8F7rYgxgGBD85cWJoLmrOzhVs_ksK_vgx40SHs7jCqkTkCk=e14-rj-sc0xffffff-h130-w32\" alt=\"Vertex AI logo\"><br> Open in Workbench\n",
    "        </a>\n",
    "      </td>\n",
    "      <td style=\"text-align: center\">\n",
    "        <a href=\"https://github.com/ra2085/apigee-adk-workshop/blob/main/notebooks/oms-agent.ipynb\">\n",
    "          <img src=\"https://cloud.google.com/ml-engine/images/github-logo-32px.png\" alt=\"GitHub logo\"><br> View on GitHub\n",
    "        </a>\n",
    "      </td>\n",
    "</table>\n",
    "<br />\n",
    "<br />\n",
    "<br />\n",
    "<br />"
   ]
  },
  {
   "cell_type": "markdown",
   "id": "bfb687cf",
   "metadata": {},
   "source": [
    "### Install Dependencies"
   ]
  },
  {
   "cell_type": "code",
   "execution_count": null,
   "id": "b646fb45",
   "metadata": {},
   "outputs": [],
   "source": [
    "%pip install google-adk -q\n",
    "%pip install litellm -q"
   ]
  },
  {
   "cell_type": "markdown",
   "id": "b33055a4",
   "metadata": {},
   "source": [
    "### Import Dependencies"
   ]
  },
  {
   "cell_type": "code",
   "execution_count": null,
   "id": "046da03f",
   "metadata": {},
   "outputs": [],
   "source": [
    "import os\n",
    "from dotenv import load_dotenv\n",
    "from google.genai import types\n",
    "from google.adk.agents import Agent\n",
    "from google.adk.runners import Runner\n",
    "from google.adk.sessions import InMemorySessionService\n",
    "from google.adk.tools.application_integration_tool.application_integration_toolset import ApplicationIntegrationToolset\n",
    "from google.adk.tools.openapi_tool.auth.auth_helpers import token_to_scheme_credential\n",
    "from google.adk.tools.apihub_tool.apihub_toolset import APIHubToolset\n",
    "from fastapi.openapi.models import OAuth2\n",
    "from fastapi.openapi.models import OAuthFlowClientCredentials\n",
    "from fastapi.openapi.models import OAuthFlows\n",
    "from google.adk.auth import AuthCredential\n",
    "from google.adk.auth import AuthCredentialTypes\n",
    "from google.adk.auth import OAuth2Auth\n"
   ]
  },
  {
   "cell_type": "code",
   "execution_count": null,
   "id": "1a1920b8",
   "metadata": {},
   "outputs": [],
   "source": [
    "#os.environ[\"GOOGLE_API_KEY\"] = \"\" # <--- REPLACE\n",
    "os.environ[\"GOOGLE_GENAI_USE_VERTEXAI\"]=\"\"\n",
    "os.environ[\"GOOGLE_CLOUD_PROJECT\"]=\"\"\n",
    "os.environ[\"GOOGLE_CLOUD_LOCATION\"]=\"\""
   ]
  },
  {
   "cell_type": "markdown",
   "id": "bc425464",
   "metadata": {},
   "source": [
    "### Initialize API Hub Tools"
   ]
  },
  {
   "cell_type": "code",
   "execution_count": null,
   "id": "7137862e",
   "metadata": {},
   "outputs": [],
   "source": [
    "async def get_product_tools_async():\n",
    "    \"\"\"Gets CRM from API Hub.\"\"\"\n",
    "    auth_scheme = OAuth2(\n",
    "        flows=OAuthFlows(\n",
    "            clientCredentials=OAuthFlowClientCredentials(\n",
    "                tokenUrl=\"https://APIGEE_HOST/mcp/token\", # @param {type:\"string\"}\n",
    "                scopes={},\n",
    "                \n",
    "            )\n",
    "        )\n",
    "    )\n",
    "    auth_credential = AuthCredential(\n",
    "        auth_type=AuthCredentialTypes.OAUTH2,\n",
    "        oauth2=OAuth2Auth(\n",
    "            client_id=\"YOUR_OAUTH_CLIENT_ID\", # @param {type:\"string\"}\n",
    "            client_secret=\"YOUR_OAUTH_CLIENT_SECRET\" # @param {type:\"string\"}\n",
    "        ),\n",
    "    )\n",
    "\n",
    "    connector_tool = ApplicationIntegrationToolset(\n",
    "        project=\"\", \n",
    "        location=\"us-central1\",\n",
    "        connection=\"oms-connection\", \n",
    "        entity_operations={\"Entity_One\": [\"LIST\"], \"Entity_Two\": []},#empty list for actions means all operations on the entity are supported.\n",
    "        actions=[\"action1\"],\n",
    "        service_account_credentials='{...}', # optional\n",
    "        tool_name=\"products_get\",\n",
    "        tool_instructions=\"Gproducts and product details\"\n",
    "    )\n",
    "    tools = connector_tool.get_tools()\n",
    "    return tools"
   ]
  }
 ],
 "metadata": {
  "kernelspec": {
   "display_name": ".venv",
   "language": "python",
   "name": "python3"
  },
  "language_info": {
   "name": "python",
   "version": "3.13.3"
  }
 },
 "nbformat": 4,
 "nbformat_minor": 5
}
